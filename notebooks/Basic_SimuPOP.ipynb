{
 "cells": [
  {
   "cell_type": "code",
   "execution_count": 64,
   "metadata": {
    "collapsed": false
   },
   "outputs": [],
   "source": [
    "from collections import OrderedDict\n",
    "from copy import deepcopy\n",
    "\n",
    "import numpy as np\n",
    "import seaborn as sns\n",
    "import matplotlib.pyplot as plt\n",
    "\n",
    "import simuPOP as sp\n",
    "%matplotlib inline"
   ]
  },
  {
   "cell_type": "code",
   "execution_count": 65,
   "metadata": {
    "collapsed": false
   },
   "outputs": [],
   "source": [
    "num_loci = 100\n",
    "pop_size = 5000\n",
    "num_gens = 50\n",
    "divisor = 100.0 / num_loci\n",
    "frac = divisor / 100.0\n",
    "frequency = [frac] * num_loci\n",
    "MAXALLELES = 1000000000"
   ]
  },
  {
   "cell_type": "code",
   "execution_count": 66,
   "metadata": {
    "collapsed": false
   },
   "outputs": [],
   "source": [
    "init_ops = OrderedDict()\n",
    "pre_ops = OrderedDict()\n",
    "post_ops = OrderedDict()"
   ]
  },
  {
   "cell_type": "code",
   "execution_count": 67,
   "metadata": {
    "collapsed": false
   },
   "outputs": [],
   "source": [
    "pops = sp.Population(pop_size, loci=[1] * num_loci)"
   ]
  },
  {
   "cell_type": "code",
   "execution_count": 68,
   "metadata": {
    "collapsed": false
   },
   "outputs": [],
   "source": [
    "init_ops['Sex'] = sp.InitSex()\n",
    "init_ops['Freq'] = sp.InitGenotype(freq=frequency)\n",
    "post_ops['Stat-freq'] = sp.Stat(alleleFreq=sp.ALL_AVAIL)\n",
    "post_ops['Stat-freq-eval'] = sp.PyEval(r\"'generation:   %d allele freq:  %.2f\\n' % (gen, alleleFreq[0][0])\")"
   ]
  },
  {
   "cell_type": "code",
   "execution_count": 69,
   "metadata": {
    "collapsed": false
   },
   "outputs": [],
   "source": [
    "mating_scheme = sp.RandomMating()"
   ]
  },
  {
   "cell_type": "code",
   "execution_count": 70,
   "metadata": {
    "collapsed": false
   },
   "outputs": [
    {
     "name": "stdout",
     "output_type": "stream",
     "text": [
      "generation:   0 allele freq:  0.01\ngeneration:   1 allele freq:  0.01\ngeneration:   2 allele freq:  0.01\ngeneration:   3 allele freq:  0.01\n"
     ]
    },
    {
     "name": "stdout",
     "output_type": "stream",
     "text": [
      "generation:   4 allele freq:  0.01\ngeneration:   5 allele freq:  0.01\ngeneration:   6 allele freq:  0.01\ngeneration:   7 allele freq:  0.01\ngeneration:   8 allele freq:  0.01\ngeneration:   9 allele freq:  0.01\n"
     ]
    },
    {
     "name": "stdout",
     "output_type": "stream",
     "text": [
      "generation:   10 allele freq:  0.01\ngeneration:   11 allele freq:  0.01\ngeneration:   12 allele freq:  0.01\ngeneration:   13 allele freq:  0.01\n"
     ]
    },
    {
     "name": "stdout",
     "output_type": "stream",
     "text": [
      "generation:   14 allele freq:  0.01\ngeneration:   15 allele freq:  0.01\ngeneration:   16 allele freq:  0.01\ngeneration:   17 allele freq:  0.01\ngeneration:   18 allele freq:  0.01\n"
     ]
    },
    {
     "name": "stdout",
     "output_type": "stream",
     "text": [
      "generation:   19 allele freq:  0.01\ngeneration:   20 allele freq:  0.01\ngeneration:   21 allele freq:  0.01\ngeneration:   22 allele freq:  0.01\ngeneration:   23 allele freq:  0.01\n"
     ]
    },
    {
     "name": "stdout",
     "output_type": "stream",
     "text": [
      "generation:   24 allele freq:  0.01\ngeneration:   25 allele freq:  0.00\ngeneration:   26 allele freq:  0.00\ngeneration:   27 allele freq:  0.00\ngeneration:   28 allele freq:  0.01\ngeneration:   29 allele freq:  0.01\n"
     ]
    },
    {
     "name": "stdout",
     "output_type": "stream",
     "text": [
      "generation:   30 allele freq:  0.01\ngeneration:   31 allele freq:  0.00\ngeneration:   32 allele freq:  0.01\ngeneration:   33 allele freq:  0.01\ngeneration:   34 allele freq:  0.01\n"
     ]
    },
    {
     "name": "stdout",
     "output_type": "stream",
     "text": [
      "generation:   35 allele freq:  0.01\ngeneration:   36 allele freq:  0.01\ngeneration:   37 allele freq:  0.01\ngeneration:   38 allele freq:  0.01\ngeneration:   39 allele freq:  0.01\n"
     ]
    },
    {
     "name": "stdout",
     "output_type": "stream",
     "text": [
      "generation:   40 allele freq:  0.01\ngeneration:   41 allele freq:  0.01\ngeneration:   42 allele freq:  0.01\ngeneration:   43 allele freq:  0.01\ngeneration:   44 allele freq:  0.01\n"
     ]
    },
    {
     "name": "stdout",
     "output_type": "stream",
     "text": [
      "generation:   45 allele freq:  0.01\ngeneration:   46 allele freq:  0.01\ngeneration:   47 allele freq:  0.01\ngeneration:   48 allele freq:  0.01\ngeneration:   49 allele freq:  0.01\n"
     ]
    },
    {
     "data": {
      "text/plain": [
       "(50,)"
      ]
     },
     "execution_count": 70,
     "metadata": {},
     "output_type": "execute_result"
    }
   ],
   "source": [
    "sim = sp.Simulator(pops, rep=1)\n",
    "sim.evolve(initOps=list(init_ops.values()), preOps=list(pre_ops.values()), postOps=list(post_ops.values()),\n",
    "           matingScheme=mating_scheme, gen=num_gens)"
   ]
  },
  {
   "cell_type": "code",
   "execution_count": 71,
   "metadata": {
    "collapsed": false
   },
   "outputs": [],
   "source": [
    "def init_acumulators(pop, param):\n",
    "    acumulators = param\n",
    "    for acumulator in acumulators:\n",
    "        pop.vars()[acumulator] = []\n",
    "    return True\n",
    "\n",
    "def update_acumulator(pop, param):\n",
    "    acumulator, var = param\n",
    "    pop.vars()[acumulator].append(deepcopy(pop.vars()[var]))\n",
    "    return True"
   ]
  },
  {
   "cell_type": "code",
   "execution_count": 72,
   "metadata": {
    "collapsed": false
   },
   "outputs": [],
   "source": [
    "def calc_exp_he(pop):\n",
    "    #assuming bi-allelic markers coded as 0 and 1\n",
    "    #sample size not corrected - OK\n",
    "    pop.dvars().expHe = {}\n",
    "    for locus, freqs in pop.dvars().alleleFreq.items():\n",
    "        f0 = freqs[0]\n",
    "        pop.dvars().expHe[locus] = 1 - f0**2 - (1 - f0)**2\n",
    "    return True"
   ]
  },
  {
   "cell_type": "code",
   "execution_count": 10,
   "metadata": {
    "collapsed": false
   },
   "outputs": [],
   "source": [
    "init_ops['acumulators'] = sp.PyOperator(init_acumulators, param=['num_males', 'exp_he'])\n",
    "post_ops['Stat-males'] = sp.Stat(numOfMales=True)\n",
    "post_ops['ExpHe'] = sp.PyOperator(calc_exp_he)\n",
    "post_ops['male_acumulation'] = sp.PyOperator(update_acumulator, param=('num_males', 'numOfMales'))\n",
    "post_ops['expHe_acumulation'] = sp.PyOperator(update_acumulator, param=('exp_he', 'expHe'))\n",
    "#remember ordering\n",
    "#generation step"
   ]
  },
  {
   "cell_type": "code",
   "execution_count": 73,
   "metadata": {
    "collapsed": false
   },
   "outputs": [],
   "source": [
    "del post_ops['Stat-freq-eval']\n"
   ]
  },
  {
   "cell_type": "code",
   "execution_count": 74,
   "metadata": {
    "collapsed": false
   },
   "outputs": [
    {
     "data": {
      "text/plain": [
       "(100,)"
      ]
     },
     "execution_count": 74,
     "metadata": {},
     "output_type": "execute_result"
    }
   ],
   "source": [
    "num_gens = 100\n",
    "pops_500 = sp.Population(500, loci=[1] * num_loci)\n",
    "sim = sp.Simulator(pops_500, rep=1)\n",
    "sim.evolve(initOps=list(init_ops.values()), preOps=list(pre_ops.values()), \n",
    "           postOps=list(post_ops.values()),\n",
    "           matingScheme=mating_scheme, gen=num_gens)"
   ]
  },
  {
   "cell_type": "code",
   "execution_count": 75,
   "metadata": {
    "collapsed": false
   },
   "outputs": [],
   "source": [
    "pop_500_after = deepcopy(sim.population(0))"
   ]
  },
  {
   "cell_type": "code",
   "execution_count": 76,
   "metadata": {
    "collapsed": false
   },
   "outputs": [
    {
     "data": {
      "text/plain": [
       "(100,)"
      ]
     },
     "execution_count": 76,
     "metadata": {},
     "output_type": "execute_result"
    }
   ],
   "source": [
    "pops_40 = sp.Population(40, loci=[1] * num_loci)\n",
    "sim = sp.Simulator(pops_40, rep=1)\n",
    "sim.evolve(initOps=list(init_ops.values()),\n",
    "           preOps=list(pre_ops.values()),\n",
    "           postOps=list(post_ops.values()),\n",
    "           matingScheme=mating_scheme, gen=num_gens)"
   ]
  },
  {
   "cell_type": "code",
   "execution_count": 77,
   "metadata": {
    "collapsed": false
   },
   "outputs": [],
   "source": [
    "pop_40_after = deepcopy(sim.population(0))"
   ]
  },
  {
   "cell_type": "code",
   "execution_count": 78,
   "metadata": {
    "collapsed": false
   },
   "outputs": [],
   "source": [
    "def calc_loci_stat(var, fun):\n",
    "    stat = []\n",
    "    for gen_data in var:\n",
    "        stat.append(fun(gen_data.values()))\n",
    "    return stat"
   ]
  },
  {
   "cell_type": "code",
   "execution_count": 81,
   "metadata": {
    "collapsed": true
   },
   "outputs": [
    {
     "ename": "AttributeError",
     "evalue": "'_dw' object has no attribute 'exp_he'",
     "traceback": [
      "\u001b[0;31m---------------------------------------------------------------------------\u001b[0m",
      "\u001b[0;31mAttributeError\u001b[0m                            Traceback (most recent call last)",
      "\u001b[0;32m<ipython-input-81-2b2fa5264135>\u001b[0m in \u001b[0;36m<module>\u001b[0;34m()\u001b[0m\n\u001b[1;32m     10\u001b[0m \u001b[0maxs\u001b[0m\u001b[0;34m[\u001b[0m\u001b[0;36m0\u001b[0m\u001b[0;34m,\u001b[0m \u001b[0;36m1\u001b[0m\u001b[0;34m]\u001b[0m\u001b[0;34m.\u001b[0m\u001b[0mset_title\u001b[0m\u001b[0;34m(\u001b[0m\u001b[0;34m'PopSize: 500'\u001b[0m\u001b[0;34m)\u001b[0m\u001b[0;34m\u001b[0m\u001b[0m\n\u001b[1;32m     11\u001b[0m \u001b[0maxs\u001b[0m\u001b[0;34m[\u001b[0m\u001b[0;36m0\u001b[0m\u001b[0;34m,\u001b[0m \u001b[0;36m0\u001b[0m\u001b[0;34m]\u001b[0m\u001b[0;34m.\u001b[0m\u001b[0mset_ylabel\u001b[0m\u001b[0;34m(\u001b[0m\u001b[0;34m'Expected heterozygosity'\u001b[0m\u001b[0;34m)\u001b[0m\u001b[0;34m\u001b[0m\u001b[0m\n\u001b[0;32m---> 12\u001b[0;31m \u001b[0mplot_pop\u001b[0m\u001b[0;34m(\u001b[0m\u001b[0maxs\u001b[0m\u001b[0;34m[\u001b[0m\u001b[0;36m0\u001b[0m\u001b[0;34m,\u001b[0m \u001b[0;36m0\u001b[0m\u001b[0;34m]\u001b[0m\u001b[0;34m,\u001b[0m \u001b[0mpop_40_after\u001b[0m\u001b[0;34m)\u001b[0m\u001b[0;34m\u001b[0m\u001b[0m\n\u001b[0m\u001b[1;32m     13\u001b[0m \u001b[0mplot_pop\u001b[0m\u001b[0;34m(\u001b[0m\u001b[0maxs\u001b[0m\u001b[0;34m[\u001b[0m\u001b[0;36m0\u001b[0m\u001b[0;34m,\u001b[0m \u001b[0;36m1\u001b[0m\u001b[0;34m]\u001b[0m\u001b[0;34m,\u001b[0m \u001b[0mpop_500_after\u001b[0m\u001b[0;34m)\u001b[0m\u001b[0;34m\u001b[0m\u001b[0m\n\u001b[1;32m     14\u001b[0m \u001b[0max\u001b[0m \u001b[0;34m=\u001b[0m \u001b[0mfig\u001b[0m\u001b[0;34m.\u001b[0m\u001b[0madd_subplot\u001b[0m\u001b[0;34m(\u001b[0m\u001b[0;36m4\u001b[0m\u001b[0;34m,\u001b[0m \u001b[0;36m4\u001b[0m\u001b[0;34m,\u001b[0m \u001b[0;36m6\u001b[0m\u001b[0;34m)\u001b[0m\u001b[0;34m\u001b[0m\u001b[0m\n",
      "\u001b[0;32m<ipython-input-81-2b2fa5264135>\u001b[0m in \u001b[0;36mplot_pop\u001b[0;34m(ax1, pop)\u001b[0m\n\u001b[1;32m      3\u001b[0m \u001b[0;32mdef\u001b[0m \u001b[0mplot_pop\u001b[0m\u001b[0;34m(\u001b[0m\u001b[0max1\u001b[0m\u001b[0;34m,\u001b[0m \u001b[0mpop\u001b[0m\u001b[0;34m)\u001b[0m\u001b[0;34m:\u001b[0m\u001b[0;34m\u001b[0m\u001b[0m\n\u001b[1;32m      4\u001b[0m     \u001b[0;32mfor\u001b[0m \u001b[0mlocus\u001b[0m \u001b[0;32min\u001b[0m \u001b[0mrange\u001b[0m\u001b[0;34m(\u001b[0m\u001b[0mnum_loci\u001b[0m\u001b[0;34m)\u001b[0m\u001b[0;34m:\u001b[0m\u001b[0;34m\u001b[0m\u001b[0m\n\u001b[0;32m----> 5\u001b[0;31m         \u001b[0max1\u001b[0m\u001b[0;34m.\u001b[0m\u001b[0mplot\u001b[0m\u001b[0;34m(\u001b[0m\u001b[0;34m[\u001b[0m\u001b[0mx\u001b[0m\u001b[0;34m[\u001b[0m\u001b[0mlocus\u001b[0m\u001b[0;34m]\u001b[0m \u001b[0;32mfor\u001b[0m \u001b[0mx\u001b[0m \u001b[0;32min\u001b[0m \u001b[0mlist\u001b[0m\u001b[0;34m(\u001b[0m\u001b[0mpop\u001b[0m\u001b[0;34m.\u001b[0m\u001b[0mdvars\u001b[0m\u001b[0;34m(\u001b[0m\u001b[0;34m)\u001b[0m\u001b[0;34m.\u001b[0m\u001b[0mexp_he\u001b[0m\u001b[0;34m)\u001b[0m\u001b[0;34m]\u001b[0m\u001b[0;34m,\u001b[0m \u001b[0mcolor\u001b[0m\u001b[0;34m=\u001b[0m\u001b[0;34m(\u001b[0m\u001b[0;36m0.75\u001b[0m\u001b[0;34m,\u001b[0m \u001b[0;36m0.75\u001b[0m\u001b[0;34m,\u001b[0m \u001b[0;36m0.75\u001b[0m\u001b[0;34m)\u001b[0m\u001b[0;34m)\u001b[0m\u001b[0;34m\u001b[0m\u001b[0m\n\u001b[0m\u001b[1;32m      6\u001b[0m     \u001b[0mmean_exp_he\u001b[0m \u001b[0;34m=\u001b[0m \u001b[0mcalc_loci_stat\u001b[0m\u001b[0;34m(\u001b[0m\u001b[0mlist\u001b[0m\u001b[0;34m(\u001b[0m\u001b[0mpop\u001b[0m\u001b[0;34m.\u001b[0m\u001b[0mdvars\u001b[0m\u001b[0;34m(\u001b[0m\u001b[0;34m)\u001b[0m\u001b[0;34m.\u001b[0m\u001b[0mexp_he\u001b[0m\u001b[0;34m)\u001b[0m\u001b[0;34m,\u001b[0m \u001b[0mnp\u001b[0m\u001b[0;34m.\u001b[0m\u001b[0mmean\u001b[0m\u001b[0;34m)\u001b[0m\u001b[0;34m\u001b[0m\u001b[0m\n\u001b[1;32m      7\u001b[0m     \u001b[0max1\u001b[0m\u001b[0;34m.\u001b[0m\u001b[0mplot\u001b[0m\u001b[0;34m(\u001b[0m\u001b[0mmean_exp_he\u001b[0m\u001b[0;34m,\u001b[0m \u001b[0mcolor\u001b[0m\u001b[0;34m=\u001b[0m\u001b[0;34m'r'\u001b[0m\u001b[0;34m)\u001b[0m\u001b[0;34m\u001b[0m\u001b[0m\n",
      "\u001b[0;31mAttributeError\u001b[0m: '_dw' object has no attribute 'exp_he'"
     ],
     "output_type": "error"
    },
    {
     "data": {
      "image/png": "[encoded data removed]",
      "text/plain": [
       "<Figure size 1152x648 with 2 Axes>"
      ]
     },
     "metadata": {},
     "output_type": "display_data"
    }
   ],
   "source": [
    "sns.set_style('white')\n",
    "fig, axs = plt.subplots(1, 2, figsize=(16, 9), sharey=True, squeeze=False)\n",
    "def plot_pop(ax1, pop):\n",
    "    for locus in range(num_loci):\n",
    "        ax1.plot([x[locus] for x in list(pop.dvars().exp_he)], color=(0.75, 0.75, 0.75))\n",
    "    mean_exp_he = calc_loci_stat(list(pop.dvars().exp_he), np.mean)\n",
    "    ax1.plot(mean_exp_he, color='r')\n",
    "\n",
    "axs[0, 0].set_title('PopSize: 40')\n",
    "axs[0, 1].set_title('PopSize: 500')\n",
    "axs[0, 0].set_ylabel('Expected heterozygosity')\n",
    "plot_pop(axs[0, 0], pop_40_after)\n",
    "plot_pop(axs[0, 1], pop_500_after)\n",
    "ax = fig.add_subplot(4, 4, 6)\n",
    "ax.set_title('Distribution of number of males')\n",
    "ax.boxplot(pop_40_after.dvars().num_males)\n",
    "ax = fig.add_subplot(4, 4, 16)\n",
    "ax.set_title('Distribution of number of males')\n",
    "ax.boxplot(pop_500_after.dvars().num_males)\n",
    "fig.tight_layout()"
   ]
  },
  {
   "cell_type": "code",
   "execution_count": 17,
   "metadata": {
    "collapsed": false
   },
   "outputs": [],
   "source": []
  }
 ],
 "metadata": {
  "kernelspec": {
   "display_name": "Python 2",
   "language": "python",
   "name": "python2"
  },
  "language_info": {
   "codemirror_mode": {
    "name": "ipython",
    "version": 2
   },
   "file_extension": ".py",
   "mimetype": "text/x-python",
   "name": "python",
   "nbconvert_exporter": "python",
   "pygments_lexer": "ipython2",
   "version": "2.7.9"
  }
 },
 "nbformat": 4,
 "nbformat_minor": 0
}
