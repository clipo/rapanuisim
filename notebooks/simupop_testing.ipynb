{
 "cells": [
  {
   "cell_type": "code",
   "execution_count": 3,
   "metadata": {
    "collapsed": true
   },
   "outputs": [],
   "source": [
    "import networkx as nx\n",
    "import simuOpt"
   ]
  },
  {
   "cell_type": "code",
   "execution_count": 4,
   "metadata": {},
   "outputs": [
    {
     "name": "stdout",
     "output_type": "stream",
     "text": [
      "simuPOP Version 1.1.8.3 : Copyright (c) 2004-2016 Bo Peng\nRevision 4553 (Feb 11 2017) for Python 3.6.0 (64bit, 0thread)\nRandom Number Generator is set to mt19937 with random seed 0x288725a3b5f756d.\nThis is the optimized long allele version with 18446744073709551616 maximum allelic states.\nFor more information, please visit http://simupop.sourceforge.net,\nor email simupop-list@lists.sourceforge.net (subscription required).\n"
     ]
    }
   ],
   "source": [
    "simuOpt.setOptions(alleleType='long',optimized=True,quiet=False)\n",
    "import simuPOP as sim"
   ]
  },
  {
   "cell_type": "code",
   "execution_count": 5,
   "metadata": {},
   "outputs": [],
   "source": [
    "pop = sim.Population(size=[3, 4, 5], ploidy=1, loci=1, infoFields='x')"
   ]
  },
  {
   "cell_type": "code",
   "execution_count": 6,
   "metadata": {},
   "outputs": [],
   "source": [
    "pop = sim.Population(size=[1000]*3, infoFields='migrate_to')"
   ]
  },
  {
   "cell_type": "code",
   "execution_count": 7,
   "metadata": {},
   "outputs": [
    {
     "name": "stdout",
     "output_type": "stream",
     "text": [
      "[811, 1118, 1071]\n[647, 1201, 1152]\n[518, 1271, 1211]\n[408, 1331, 1261]\n[333, 1362, 1305]\n"
     ]
    },
    {
     "data": {
      "text/plain": [
       "5"
      ]
     },
     "execution_count": 7,
     "metadata": {},
     "output_type": "execute_result"
    }
   ],
   "source": [
    "pop.evolve(\n",
    "    initOps=sim.InitSex(),\n",
    "    preOps=sim.Migrator(rate=[\n",
    "            [0, 0.1, 0.1],\n",
    "            [0, 0, 0.1],\n",
    "            [0, 0.1, 0]\n",
    "        ]), \n",
    "    matingScheme=sim.RandomMating(),\n",
    "    postOps=[\n",
    "        sim.Stat(popSize=True),\n",
    "        sim.PyEval('subPopSize'),\n",
    "        sim.PyOutput('\\n')\n",
    "    ],\n",
    "    gen = 5\n",
    ")        \n"
   ]
  },
  {
   "cell_type": "code",
   "execution_count": 8,
   "metadata": {},
   "outputs": [
    {
     "ename": "NameError",
     "evalue": "name 'Population' is not defined",
     "traceback": [
      "\u001b[0;31m---------------------------------------------------------------------------\u001b[0m",
      "\u001b[0;31mNameError\u001b[0m                                 Traceback (most recent call last)",
      "\u001b[0;32m<ipython-input-8-508c191f113c>\u001b[0m in \u001b[0;36m<module>\u001b[0;34m()\u001b[0m\n\u001b[1;32m     64\u001b[0m \u001b[0;34m\u001b[0m\u001b[0m\n\u001b[1;32m     65\u001b[0m \u001b[0;32mif\u001b[0m \u001b[0m__name__\u001b[0m \u001b[0;34m==\u001b[0m \u001b[0;34m'__main__'\u001b[0m\u001b[0;34m:\u001b[0m\u001b[0;34m\u001b[0m\u001b[0m\n\u001b[0;32m---> 66\u001b[0;31m     \u001b[0msimuSpatial\u001b[0m\u001b[0;34m(\u001b[0m\u001b[0;34m)\u001b[0m\u001b[0;34m\u001b[0m\u001b[0m\n\u001b[0m",
      "\u001b[0;32m<ipython-input-8-508c191f113c>\u001b[0m in \u001b[0;36msimuSpatial\u001b[0;34m()\u001b[0m\n\u001b[1;32m     48\u001b[0m             \u001b[0mxy\u001b[0m\u001b[0;34m.\u001b[0m\u001b[0mappend\u001b[0m\u001b[0;34m(\u001b[0m\u001b[0;34m(\u001b[0m\u001b[0mi\u001b[0m\u001b[0;34m,\u001b[0m \u001b[0mj\u001b[0m\u001b[0;34m)\u001b[0m\u001b[0;34m)\u001b[0m\u001b[0;34m\u001b[0m\u001b[0m\n\u001b[1;32m     49\u001b[0m     \u001b[0mr\u001b[0m \u001b[0;34m=\u001b[0m \u001b[0mspatialMigrRates\u001b[0m\u001b[0;34m(\u001b[0m\u001b[0mxy\u001b[0m\u001b[0;34m,\u001b[0m \u001b[0;36m10\u001b[0m\u001b[0;34m)\u001b[0m\u001b[0;34m\u001b[0m\u001b[0m\n\u001b[0;32m---> 50\u001b[0;31m     pop = Population(size=[10]*10, loci=[1],\n\u001b[0m\u001b[1;32m     51\u001b[0m         infoFields='migrate_to')\n\u001b[1;32m     52\u001b[0m     pop.evolve(\n",
      "\u001b[0;31mNameError\u001b[0m: name 'Population' is not defined"
     ],
     "output_type": "error"
    }
   ],
   "source": [
    "import simuOpt\n",
    "\n",
    "simuOpt.setOptions(alleleType='long',optimized=True,quiet=False)\n",
    "\n",
    "import simuPOP\n",
    "import math\n",
    "\n",
    "def spatialMigrRates(xy, r):\n",
    "    '''\n",
    "    Return a migration matrix where migration rates between two\n",
    "    subpopulations vary according to Euclidean distance between them.\n",
    "    xy\n",
    "        A list of (x,y) location for each subpopulation.\n",
    "    r\n",
    "        migrate rate between two subpopulations is exp(-r*d_ij) where\n",
    "        d_ij is the Euclidean distance between subpopulations i and j.\n",
    "    '''\n",
    "    nSubPop = len(xy)\n",
    "    rate = []\n",
    "    for i in range(nSubPop):\n",
    "        rate.append([])\n",
    "        for j in range(nSubPop):\n",
    "            if i == j:\n",
    "                rate[-1].append(0)\n",
    "                continue\n",
    "            d_ij = math.sqrt((xy[i][0] - xy[j][0])**2 + (xy[i][1] - xy[j][1])**2)\n",
    "            rate[-1].append(math.exp(-1 * r * d_ij))\n",
    "    return rate\n",
    "\n",
    "def printAlleleFreq(pop):\n",
    "    'Print allele frequencies of all subpopulations'\n",
    "    stat(pop, alleleFreq=[0], vars=['alleleFreq_sp'])\n",
    "    print ('Allele frequencies at generation', pop.dvars().gen)\n",
    "    for i in range(10):\n",
    "        for j in range(10):\n",
    "            print ('%.2f' % pop.dvars(10*i + j).alleleFreq[0][1],)\n",
    "        print()\n",
    "    return True\n",
    "\n",
    "\n",
    "def simuSpatial():\n",
    "    '''\n",
    "    A example.\n",
    "    '''\n",
    "    xy = []\n",
    "    for i in range(100):\n",
    "        for j in range(100):\n",
    "            xy.append((i, j))\n",
    "    r = spatialMigrRates(xy, 10)\n",
    "    pop = Population(size=[10]*10, loci=[1],\n",
    "        infoFields='migrate_to')\n",
    "    pop.evolve(\n",
    "        # only subpopulation 55 has genotype 1, 1\n",
    "        initOps = [\n",
    "            InitSex(),\n",
    "            InitGenotype(genotype=[1, 1], subPops=55),\n",
    "        ],\n",
    "        preOps = Migrator(rate=r),\n",
    "        matingScheme = RandomSelection(),\n",
    "        postOps = PyOperator(printAlleleFreq, at=3),\n",
    "        gen = 10\n",
    "    )\n",
    "                \n",
    "\n",
    "if __name__ == '__main__':\n",
    "    simuSpatial()"
   ]
  },
  {
   "cell_type": "code",
   "execution_count": 1,
   "metadata": {},
   "outputs": [
    {
     "name": "stdout",
     "output_type": "stream",
     "text": [
      "simuPOP Version 1.1.8.3 : Copyright (c) 2004-2016 Bo Peng\nRevision 4553 (Feb 11 2017) for Python 3.6.0 (64bit, 0thread)\nRandom Number Generator is set to mt19937 with random seed 0x711d186d06a14b22.\nThis is the optimized long allele version with 18446744073709551616 maximum allelic states.\nFor more information, please visit http://simupop.sourceforge.net,\nor email simupop-list@lists.sourceforge.net (subscription required).\n"
     ]
    },
    {
     "ename": "KeyboardInterrupt",
     "evalue": "",
     "traceback": [
      "\u001b[0;31m---------------------------------------------------------------------------\u001b[0m",
      "\u001b[0;31mKeyboardInterrupt\u001b[0m                         Traceback (most recent call last)",
      "\u001b[0;32m<ipython-input-1-7554b09f9094>\u001b[0m in \u001b[0;36m<module>\u001b[0;34m()\u001b[0m\n\u001b[1;32m     64\u001b[0m \u001b[0;34m\u001b[0m\u001b[0m\n\u001b[1;32m     65\u001b[0m \u001b[0;32mif\u001b[0m \u001b[0m__name__\u001b[0m \u001b[0;34m==\u001b[0m \u001b[0;34m'__main__'\u001b[0m\u001b[0;34m:\u001b[0m\u001b[0;34m\u001b[0m\u001b[0m\n\u001b[0;32m---> 66\u001b[0;31m     \u001b[0msimuSpatial\u001b[0m\u001b[0;34m(\u001b[0m\u001b[0;34m)\u001b[0m\u001b[0;34m\u001b[0m\u001b[0m\n\u001b[0m",
      "\u001b[0;32m<ipython-input-1-7554b09f9094>\u001b[0m in \u001b[0;36msimuSpatial\u001b[0;34m()\u001b[0m\n\u001b[1;32m     47\u001b[0m         \u001b[0;32mfor\u001b[0m \u001b[0mj\u001b[0m \u001b[0;32min\u001b[0m \u001b[0mrange\u001b[0m\u001b[0;34m(\u001b[0m\u001b[0;36m100\u001b[0m\u001b[0;34m)\u001b[0m\u001b[0;34m:\u001b[0m\u001b[0;34m\u001b[0m\u001b[0m\n\u001b[1;32m     48\u001b[0m             \u001b[0mxy\u001b[0m\u001b[0;34m.\u001b[0m\u001b[0mappend\u001b[0m\u001b[0;34m(\u001b[0m\u001b[0;34m(\u001b[0m\u001b[0mi\u001b[0m\u001b[0;34m,\u001b[0m \u001b[0mj\u001b[0m\u001b[0;34m)\u001b[0m\u001b[0;34m)\u001b[0m\u001b[0;34m\u001b[0m\u001b[0m\n\u001b[0;32m---> 49\u001b[0;31m     \u001b[0mr\u001b[0m \u001b[0;34m=\u001b[0m \u001b[0mspatialMigrRates\u001b[0m\u001b[0;34m(\u001b[0m\u001b[0mxy\u001b[0m\u001b[0;34m,\u001b[0m \u001b[0;36m10\u001b[0m\u001b[0;34m)\u001b[0m\u001b[0;34m\u001b[0m\u001b[0m\n\u001b[0m\u001b[1;32m     50\u001b[0m     pop = sim.Population(size=[10]*10, loci=[1],\n\u001b[1;32m     51\u001b[0m         infoFields='migrate_to')\n",
      "\u001b[0;32m<ipython-input-1-7554b09f9094>\u001b[0m in \u001b[0;36mspatialMigrRates\u001b[0;34m(xy, r)\u001b[0m\n\u001b[1;32m     24\u001b[0m                 \u001b[0mrate\u001b[0m\u001b[0;34m[\u001b[0m\u001b[0;34m-\u001b[0m\u001b[0;36m1\u001b[0m\u001b[0;34m]\u001b[0m\u001b[0;34m.\u001b[0m\u001b[0mappend\u001b[0m\u001b[0;34m(\u001b[0m\u001b[0;36m0\u001b[0m\u001b[0;34m)\u001b[0m\u001b[0;34m\u001b[0m\u001b[0m\n\u001b[1;32m     25\u001b[0m                 \u001b[0;32mcontinue\u001b[0m\u001b[0;34m\u001b[0m\u001b[0m\n\u001b[0;32m---> 26\u001b[0;31m             \u001b[0md_ij\u001b[0m \u001b[0;34m=\u001b[0m \u001b[0mmath\u001b[0m\u001b[0;34m.\u001b[0m\u001b[0msqrt\u001b[0m\u001b[0;34m(\u001b[0m\u001b[0;34m(\u001b[0m\u001b[0mxy\u001b[0m\u001b[0;34m[\u001b[0m\u001b[0mi\u001b[0m\u001b[0;34m]\u001b[0m\u001b[0;34m[\u001b[0m\u001b[0;36m0\u001b[0m\u001b[0;34m]\u001b[0m \u001b[0;34m-\u001b[0m \u001b[0mxy\u001b[0m\u001b[0;34m[\u001b[0m\u001b[0mj\u001b[0m\u001b[0;34m]\u001b[0m\u001b[0;34m[\u001b[0m\u001b[0;36m0\u001b[0m\u001b[0;34m]\u001b[0m\u001b[0;34m)\u001b[0m\u001b[0;34m**\u001b[0m\u001b[0;36m2\u001b[0m \u001b[0;34m+\u001b[0m \u001b[0;34m(\u001b[0m\u001b[0mxy\u001b[0m\u001b[0;34m[\u001b[0m\u001b[0mi\u001b[0m\u001b[0;34m]\u001b[0m\u001b[0;34m[\u001b[0m\u001b[0;36m1\u001b[0m\u001b[0;34m]\u001b[0m \u001b[0;34m-\u001b[0m \u001b[0mxy\u001b[0m\u001b[0;34m[\u001b[0m\u001b[0mj\u001b[0m\u001b[0;34m]\u001b[0m\u001b[0;34m[\u001b[0m\u001b[0;36m1\u001b[0m\u001b[0;34m]\u001b[0m\u001b[0;34m)\u001b[0m\u001b[0;34m**\u001b[0m\u001b[0;36m2\u001b[0m\u001b[0;34m)\u001b[0m\u001b[0;34m\u001b[0m\u001b[0m\n\u001b[0m\u001b[1;32m     27\u001b[0m             \u001b[0mrate\u001b[0m\u001b[0;34m[\u001b[0m\u001b[0;34m-\u001b[0m\u001b[0;36m1\u001b[0m\u001b[0;34m]\u001b[0m\u001b[0;34m.\u001b[0m\u001b[0mappend\u001b[0m\u001b[0;34m(\u001b[0m\u001b[0mmath\u001b[0m\u001b[0;34m.\u001b[0m\u001b[0mexp\u001b[0m\u001b[0;34m(\u001b[0m\u001b[0;34m-\u001b[0m\u001b[0;36m1\u001b[0m \u001b[0;34m*\u001b[0m \u001b[0mr\u001b[0m \u001b[0;34m*\u001b[0m \u001b[0md_ij\u001b[0m\u001b[0;34m)\u001b[0m\u001b[0;34m)\u001b[0m\u001b[0;34m\u001b[0m\u001b[0m\n\u001b[1;32m     28\u001b[0m     \u001b[0;32mreturn\u001b[0m \u001b[0mrate\u001b[0m\u001b[0;34m\u001b[0m\u001b[0m\n",
      "\u001b[0;31mKeyboardInterrupt\u001b[0m: "
     ],
     "output_type": "error"
    }
   ],
   "source": [
    "import simuOpt\n",
    "\n",
    "simuOpt.setOptions(alleleType='long',optimized=True,quiet=False)\n",
    "\n",
    "import simuPOP as sim\n",
    "import math\n",
    "\n",
    "def spatialMigrRates(xy, r):\n",
    "    '''\n",
    "    Return a migration matrix where migration rates between two\n",
    "    subpopulations vary according to Euclidean distance between them.\n",
    "    xy\n",
    "        A list of (x,y) location for each subpopulation.\n",
    "    r\n",
    "        migrate rate between two subpopulations is exp(-r*d_ij) where\n",
    "        d_ij is the Euclidean distance between subpopulations i and j.\n",
    "    '''\n",
    "    nSubPop = len(xy)\n",
    "    rate = []\n",
    "    for i in range(nSubPop):\n",
    "        rate.append([])\n",
    "        for j in range(nSubPop):\n",
    "            if i == j:\n",
    "                rate[-1].append(0)\n",
    "                continue\n",
    "            d_ij = math.sqrt((xy[i][0] - xy[j][0])**2 + (xy[i][1] - xy[j][1])**2)\n",
    "            rate[-1].append(math.exp(-1 * r * d_ij))\n",
    "    return rate\n",
    "\n",
    "def printAlleleFreq(pop):\n",
    "    'Print allele frequencies of all subpopulations'\n",
    "    sim.stat(pop, alleleFreq=[0], vars=['alleleFreq_sp'])\n",
    "    print ('Allele frequencies at generation', pop.dvars().gen)\n",
    "    for i in range(10):\n",
    "        for j in range(10):\n",
    "            print ('%.2f' % pop.dvars(10*i + j).alleleFreq[0][1],)\n",
    "        print()\n",
    "    return True\n",
    "\n",
    "\n",
    "def simuSpatial():\n",
    "    '''\n",
    "    A example.\n",
    "    '''\n",
    "    xy = []\n",
    "    for i in range(100):\n",
    "        for j in range(100):\n",
    "            xy.append((i, j))\n",
    "    r = sim.spatialMigrRates(xy, 10)\n",
    "    pop = sim.Population(size=[10]*10, loci=[1],\n",
    "        infoFields='migrate_to')\n",
    "    pop.evolve(\n",
    "        # only subpopulation 55 has genotype 1, 1\n",
    "        initOps = [\n",
    "            sim.InitSex(),\n",
    "            sim.InitGenotype(genotype=[1, 1], subPops=55),\n",
    "        ],\n",
    "        preOps = sim.Migrator(rate=r),\n",
    "        matingScheme = sim.RandomSelection(),\n",
    "        postOps = sim.PyOperator(printAlleleFreq, at=3),\n",
    "        gen = 10\n",
    "    )\n",
    "                \n",
    "\n",
    "if __name__ == '__main__':\n",
    "    simuSpatial()"
   ]
  },
  {
   "cell_type": "code",
   "execution_count": 2,
   "metadata": {},
   "outputs": [
    {
     "ename": "KeyboardInterrupt",
     "evalue": "",
     "traceback": [
      "\u001b[0;31m---------------------------------------------------------------------------\u001b[0m",
      "\u001b[0;31mKeyboardInterrupt\u001b[0m                         Traceback (most recent call last)",
      "\u001b[0;32m<ipython-input-2-5ec9b8aa3bee>\u001b[0m in \u001b[0;36m<module>\u001b[0;34m()\u001b[0m\n\u001b[1;32m     64\u001b[0m \u001b[0;34m\u001b[0m\u001b[0m\n\u001b[1;32m     65\u001b[0m \u001b[0;32mif\u001b[0m \u001b[0m__name__\u001b[0m \u001b[0;34m==\u001b[0m \u001b[0;34m'__main__'\u001b[0m\u001b[0;34m:\u001b[0m\u001b[0;34m\u001b[0m\u001b[0m\n\u001b[0;32m---> 66\u001b[0;31m     \u001b[0msimuSpatial\u001b[0m\u001b[0;34m(\u001b[0m\u001b[0;34m)\u001b[0m\u001b[0;34m\u001b[0m\u001b[0m\n\u001b[0m",
      "\u001b[0;32m<ipython-input-2-5ec9b8aa3bee>\u001b[0m in \u001b[0;36msimuSpatial\u001b[0;34m()\u001b[0m\n\u001b[1;32m     47\u001b[0m         \u001b[0;32mfor\u001b[0m \u001b[0mj\u001b[0m \u001b[0;32min\u001b[0m \u001b[0mrange\u001b[0m\u001b[0;34m(\u001b[0m\u001b[0;36m100\u001b[0m\u001b[0;34m)\u001b[0m\u001b[0;34m:\u001b[0m\u001b[0;34m\u001b[0m\u001b[0m\n\u001b[1;32m     48\u001b[0m             \u001b[0mxy\u001b[0m\u001b[0;34m.\u001b[0m\u001b[0mappend\u001b[0m\u001b[0;34m(\u001b[0m\u001b[0;34m(\u001b[0m\u001b[0mi\u001b[0m\u001b[0;34m,\u001b[0m \u001b[0mj\u001b[0m\u001b[0;34m)\u001b[0m\u001b[0;34m)\u001b[0m\u001b[0;34m\u001b[0m\u001b[0m\n\u001b[0;32m---> 49\u001b[0;31m     \u001b[0mr\u001b[0m \u001b[0;34m=\u001b[0m \u001b[0mspatialMigrRates\u001b[0m\u001b[0;34m(\u001b[0m\u001b[0mxy\u001b[0m\u001b[0;34m,\u001b[0m \u001b[0;36m10\u001b[0m\u001b[0;34m)\u001b[0m\u001b[0;34m\u001b[0m\u001b[0m\n\u001b[0m\u001b[1;32m     50\u001b[0m     pop = sim.Population(size=[10]*10, loci=[1],\n\u001b[1;32m     51\u001b[0m         infoFields='migrate_to')\n",
      "\u001b[0;32m<ipython-input-2-5ec9b8aa3bee>\u001b[0m in \u001b[0;36mspatialMigrRates\u001b[0;34m(xy, r)\u001b[0m\n\u001b[1;32m     24\u001b[0m                 \u001b[0mrate\u001b[0m\u001b[0;34m[\u001b[0m\u001b[0;34m-\u001b[0m\u001b[0;36m1\u001b[0m\u001b[0;34m]\u001b[0m\u001b[0;34m.\u001b[0m\u001b[0mappend\u001b[0m\u001b[0;34m(\u001b[0m\u001b[0;36m0\u001b[0m\u001b[0;34m)\u001b[0m\u001b[0;34m\u001b[0m\u001b[0m\n\u001b[1;32m     25\u001b[0m                 \u001b[0;32mcontinue\u001b[0m\u001b[0;34m\u001b[0m\u001b[0m\n\u001b[0;32m---> 26\u001b[0;31m             \u001b[0md_ij\u001b[0m \u001b[0;34m=\u001b[0m \u001b[0mmath\u001b[0m\u001b[0;34m.\u001b[0m\u001b[0msqrt\u001b[0m\u001b[0;34m(\u001b[0m\u001b[0;34m(\u001b[0m\u001b[0mxy\u001b[0m\u001b[0;34m[\u001b[0m\u001b[0mi\u001b[0m\u001b[0;34m]\u001b[0m\u001b[0;34m[\u001b[0m\u001b[0;36m0\u001b[0m\u001b[0;34m]\u001b[0m \u001b[0;34m-\u001b[0m \u001b[0mxy\u001b[0m\u001b[0;34m[\u001b[0m\u001b[0mj\u001b[0m\u001b[0;34m]\u001b[0m\u001b[0;34m[\u001b[0m\u001b[0;36m0\u001b[0m\u001b[0;34m]\u001b[0m\u001b[0;34m)\u001b[0m\u001b[0;34m**\u001b[0m\u001b[0;36m2\u001b[0m \u001b[0;34m+\u001b[0m \u001b[0;34m(\u001b[0m\u001b[0mxy\u001b[0m\u001b[0;34m[\u001b[0m\u001b[0mi\u001b[0m\u001b[0;34m]\u001b[0m\u001b[0;34m[\u001b[0m\u001b[0;36m1\u001b[0m\u001b[0;34m]\u001b[0m \u001b[0;34m-\u001b[0m \u001b[0mxy\u001b[0m\u001b[0;34m[\u001b[0m\u001b[0mj\u001b[0m\u001b[0;34m]\u001b[0m\u001b[0;34m[\u001b[0m\u001b[0;36m1\u001b[0m\u001b[0;34m]\u001b[0m\u001b[0;34m)\u001b[0m\u001b[0;34m**\u001b[0m\u001b[0;36m2\u001b[0m\u001b[0;34m)\u001b[0m\u001b[0;34m\u001b[0m\u001b[0m\n\u001b[0m\u001b[1;32m     27\u001b[0m             \u001b[0mrate\u001b[0m\u001b[0;34m[\u001b[0m\u001b[0;34m-\u001b[0m\u001b[0;36m1\u001b[0m\u001b[0;34m]\u001b[0m\u001b[0;34m.\u001b[0m\u001b[0mappend\u001b[0m\u001b[0;34m(\u001b[0m\u001b[0mmath\u001b[0m\u001b[0;34m.\u001b[0m\u001b[0mexp\u001b[0m\u001b[0;34m(\u001b[0m\u001b[0;34m-\u001b[0m\u001b[0;36m1\u001b[0m \u001b[0;34m*\u001b[0m \u001b[0mr\u001b[0m \u001b[0;34m*\u001b[0m \u001b[0md_ij\u001b[0m\u001b[0;34m)\u001b[0m\u001b[0;34m)\u001b[0m\u001b[0;34m\u001b[0m\u001b[0m\n\u001b[1;32m     28\u001b[0m     \u001b[0;32mreturn\u001b[0m \u001b[0mrate\u001b[0m\u001b[0;34m\u001b[0m\u001b[0m\n",
      "\u001b[0;31mKeyboardInterrupt\u001b[0m: "
     ],
     "output_type": "error"
    }
   ],
   "source": [
    "import simuOpt\n",
    "\n",
    "simuOpt.setOptions(alleleType='long',optimized=True,quiet=False)\n",
    "\n",
    "import simuPOP as sim\n",
    "import math\n",
    "\n",
    "def spatialMigrRates(xy, r):\n",
    "    '''\n",
    "    Return a migration matrix where migration rates between two\n",
    "    subpopulations vary according to Euclidean distance between them.\n",
    "    xy\n",
    "        A list of (x,y) location for each subpopulation.\n",
    "    r\n",
    "        migrate rate between two subpopulations is exp(-r*d_ij) where\n",
    "        d_ij is the Euclidean distance between subpopulations i and j.\n",
    "    '''\n",
    "    nSubPop = len(xy)\n",
    "    rate = []\n",
    "    for i in range(nSubPop):\n",
    "        rate.append([])\n",
    "        for j in range(nSubPop):\n",
    "            if i == j:\n",
    "                rate[-1].append(0)\n",
    "                continue\n",
    "            d_ij = math.sqrt((xy[i][0] - xy[j][0])**2 + (xy[i][1] - xy[j][1])**2)\n",
    "            rate[-1].append(math.exp(-1 * r * d_ij))\n",
    "    return rate\n",
    "\n",
    "def printAlleleFreq(pop):\n",
    "    'Print allele frequencies of all subpopulations'\n",
    "    stat(pop, alleleFreq=[0], vars=['alleleFreq_sp'])\n",
    "    print ('Allele frequencies at generation', pop.dvars().gen)\n",
    "    for i in range(10):\n",
    "        for j in range(10):\n",
    "            print ('%.2f' % pop.dvars(10*i + j).alleleFreq[0][1],)\n",
    "        print()\n",
    "    return True\n",
    "\n",
    "\n",
    "def simuSpatial():\n",
    "    '''\n",
    "    A example.\n",
    "    '''\n",
    "    xy = []\n",
    "    for i in range(100):\n",
    "        for j in range(100):\n",
    "            xy.append((i, j))\n",
    "    r = spatialMigrRates(xy, 10)\n",
    "    pop = sim.Population(size=[10]*10, loci=[1],\n",
    "        infoFields='migrate_to')\n",
    "    pop.evolve(\n",
    "        # only subpopulation 55 has genotype 1, 1\n",
    "        initOps = [\n",
    "            sim.InitSex(),\n",
    "            sim.InitGenotype(genotype=[1, 1], subPops=55),\n",
    "        ],\n",
    "        preOps = sim.Migrator(rate=r),\n",
    "        matingScheme = sim.RandomSelection(),\n",
    "        postOps = sim.PyOperator(printAlleleFreq, at=3),\n",
    "        gen = 10\n",
    "    )\n",
    "                \n",
    "\n",
    "if __name__ == '__main__':\n",
    "    simuSpatial()"
   ]
  },
  {
   "cell_type": "code",
   "execution_count": 1,
   "metadata": {},
   "outputs": [
    {
     "name": "stdout",
     "output_type": "stream",
     "text": [
      "simuPOP Version 1.1.8.3 : Copyright (c) 2004-2016 Bo Peng\nRevision 4553 (Feb 11 2017) for Python 3.6.0 (64bit, 0thread)\nRandom Number Generator is set to mt19937 with random seed 0x19f682961117b5a4.\nThis is the optimized long allele version with 18446744073709551616 maximum allelic states.\nFor more information, please visit http://simupop.sourceforge.net,\nor email simupop-list@lists.sourceforge.net (subscription required).\n"
     ]
    }
   ],
   "source": [
    "import simuOpt\n",
    "\n",
    "simuOpt.setOptions(alleleType='long',optimized=True,quiet=False)\n",
    "\n",
    "import simuPOP as sim\n",
    "import math\n",
    "\n",
    "def spatialMigrRates(xy, r):\n",
    "    '''\n",
    "    Return a migration matrix where migration rates between two\n",
    "    subpopulations vary according to Euclidean distance between them.\n",
    "    xy\n",
    "        A list of (x,y) location for each subpopulation.\n",
    "    r\n",
    "        migrate rate between two subpopulations is exp(-r*d_ij) where\n",
    "        d_ij is the Euclidean distance between subpopulations i and j.\n",
    "    '''\n",
    "    nSubPop = len(xy)\n",
    "    rate = []\n",
    "    for i in range(nSubPop):\n",
    "        rate.append([])\n",
    "        for j in range(nSubPop):\n",
    "            if i == j:\n",
    "                rate[-1].append(0)\n",
    "                continue\n",
    "            d_ij = math.sqrt((xy[i][0] - xy[j][0])**2 + (xy[i][1] - xy[j][1])**2)\n",
    "            rate[-1].append(math.exp(-1 * r * d_ij))\n",
    "    return rate\n",
    "\n",
    "def printAlleleFreq(pop):\n",
    "    'Print allele frequencies of all subpopulations'\n",
    "    stat(pop, alleleFreq=[0], vars=['alleleFreq_sp'])\n",
    "    print ('Allele frequencies at generation', pop.dvars().gen)\n",
    "    for i in range(10):\n",
    "        for j in range(10):\n",
    "            print ('%.2f' % pop.dvars(10*i + j).alleleFreq[0][1],)\n",
    "        print()\n",
    "    return True\n",
    "\n",
    "\n",
    "def simuSpatial():\n",
    "    '''\n",
    "    A example.\n",
    "    '''\n",
    "    xy = []\n",
    "    for i in range(100):\n",
    "        for j in range(100):\n",
    "            xy.append((i, j))\n",
    "    r = spatialMigrRates(xy, 10)\n",
    "    pop = sim.Population(size=[10]*10, loci=[1],\n",
    "        infoFields='migrate_to')\n",
    "    pop.evolve(\n",
    "        # only subpopulation 55 has genotype 1, 1\n",
    "        initOps = [\n",
    "            sim.InitSex(),\n",
    "            sim.InitGenotype(genotype=[1, 1], subPops=55),\n",
    "        ],\n",
    "        preOps = sim.Migrator(rate=r),\n",
    "        matingScheme = sim.RandomSelection(),\n",
    "        postOps = sim.PyOperator(printAlleleFreq, at=3),\n",
    "        gen = 10\n",
    "    )\n",
    "                \n",
    "\n",
    "if __name__ == '__main__':\n",
    "    simuSpatial()"
   ]
  },
  {
   "cell_type": "code",
   "execution_count": 10,
   "metadata": {},
   "outputs": [
    {
     "name": "stdout",
     "output_type": "stream",
     "text": [
      "Gen: 0, freq:"
     ]
    },
    {
     "name": "stdout",
     "output_type": "stream",
     "text": [
      " 0.19, freq (aff): 0.40, freq (unaff): 0.14\nGen: 1, freq: 0.19, freq (aff): 0.40, freq (unaff): 0.14\nGen: 2, freq: 0.19, freq (aff): 0.39, freq (unaff): 0.14\nGen: 3, freq: 0.19, freq (aff): 0.39, freq (unaff): 0.13\nGen: 4, freq: 0.19, freq (aff): 0.40, freq (unaff): 0.13\nGen: 5, freq: 0.19, freq (aff): 0.39, freq (unaff): 0.13\nGen: 6, freq: 0.19, freq (aff): 0.40, freq (unaff): 0.13\nGen: 7, freq: 0.18, freq (aff): 0.37, freq (unaff): 0.13\nGen: 8, freq: 0.18, freq (aff): 0.39, freq (unaff): 0"
     ]
    },
    {
     "name": "stdout",
     "output_type": "stream",
     "text": [
      ".13\nGen: 9, freq: 0.18, freq (aff): 0.38, freq (unaff): 0.13\nGen: 10, freq: 0.19, freq (aff): 0.39, freq (unaff): 0.13\nGen: 11, freq: 0.18, freq (aff): 0.38, freq (unaff): 0.13\nGen: 12, freq: 0.19, freq (aff): 0.40, freq (unaff): 0.13\nGen: 13, freq: 0.19, freq (aff): 0.39, freq (unaff): 0.13\nGen: 14, freq: 0.19, freq (aff): 0.40, freq (unaff): 0.13\nGen: 15, freq: 0.19, freq (aff): 0.40, freq (unaff): 0.13\nGen: 16, freq: 0.19, freq (aff): 0.39, freq (unaff): 0.13\nGen: 17, freq: 0.19, freq (aff): 0.39, freq (unaff): 0.13\nGen: 18, freq: 0.19, freq (aff): 0.40, freq (unaff): 0.13\nGen: 19, freq: 0.18, freq (aff): 0.39, freq (unaff): 0.13\nGen: 20, freq: 0.18, freq (aff): 0.38, freq (unaff): 0.13\nGen: 21, freq: 0.18, freq (aff): 0.39, freq (unaff): 0.13\nGen: 22, freq: 0.18, freq (aff): 0.37, freq (unaff): 0.13\nGen: 23, freq: 0.18, freq (aff): 0.39, freq (unaff): 0.13\nGen: 24, freq: 0.18, freq (aff): 0.38, freq (unaff): 0.13\nGen: 25, freq: 0.18, freq (aff): 0.38, freq (unaff): 0.13\nGen: 26, freq: 0.18, freq (aff): 0.37, freq (unaff): 0.13\nGen: 27, freq: 0.17, freq (aff): 0.38, freq (unaff): 0.12\nGen: 28, freq: 0.18, freq (aff): 0.39, freq (unaff): 0.12\nGen: 29, freq: 0.18, freq (aff): 0.38, freq (unaff): 0.12\nGen: 30, freq: 0.18, freq (aff): 0.38, freq (unaff): 0.12\nGen: 31, freq: 0.18, freq (aff): 0.38, freq (unaff): 0.13\nGen: 32, freq: 0.18, freq (aff): 0.38, freq (unaff): 0.12\nGen: 33, freq: 0.17, freq (aff): 0.38, freq (unaff): 0.12\nGen: 34, freq: 0.17, freq (aff): 0.38, freq (unaff): 0.12\nGen: 35, freq: 0.17, freq (aff): 0.37, freq (unaff): 0.12\nGen: 36, freq: 0.17, freq (aff): 0.37, freq (unaff): 0.12\nGen: 37, freq: 0.17, freq (aff): 0.37, freq (unaff): 0.12\nGen: 38, freq: 0.17, freq (aff): 0.37, freq (unaff): 0.12\nGen: 39, freq: 0.17, freq (aff): 0.37, freq (unaff): 0.12\nGen: 40, freq: 0.17, freq (aff): 0.37, freq (unaff): 0.12\nGen: 41, freq: 0.17, freq (aff): 0.36, freq (unaff): 0.12\nGen: 42, freq: 0.16, fr"
     ]
    },
    {
     "name": "stdout",
     "output_type": "stream",
     "text": [
      "eq (aff): 0.35, freq (unaff): 0.12\nGen: 43, freq: 0.16, freq (aff): 0.35, freq (unaff): 0.11\nGen: 44, freq: 0.16, freq (aff): 0.35, freq (unaff): 0.11\nGen: 45, freq: 0.16, freq (aff): 0.36, freq (unaff): 0.11\nGen: 46, freq: 0.16, freq (aff): 0.36, freq (unaff): 0.11\nGen: 47, freq: 0.16, freq (aff): 0.35, freq (unaff): 0.11\nGen: 48, freq: 0.16, freq (aff): 0.35, freq (unaff): 0.11\nGen: 49, freq: 0.16, freq (aff): 0.36, freq (unaff): 0.11\n"
     ]
    },
    {
     "data": {
      "text/plain": [
       "50"
      ]
     },
     "execution_count": 10,
     "metadata": {},
     "output_type": "execute_result"
    }
   ],
   "source": [
    "import simuPOP as sim\n",
    "pop = sim.Population(10000, loci=1)\n",
    "pop.setVirtualSplitter(sim.AffectionSplitter())\n",
    "pop.evolve(\n",
    "    initOps=[\n",
    "        sim.InitSex(),\n",
    "        sim.InitGenotype(loci=0, freq=[0.8, 0.2])\n",
    "    ],\n",
    "    matingScheme=sim.RandomMating(),\n",
    "    postOps=[\n",
    "        sim.MaPenetrance(penetrance=[0.1, 0.4, 0.6], loci=0),\n",
    "        sim.Stat(alleleFreq=0, subPops=[(0, 0), (0, 1)],\n",
    "            vars=['alleleFreq', 'alleleFreq_sp']),\n",
    "        sim.PyEval(r\"'Gen: %d, freq: %.2f, freq (aff): %.2f, freq (unaff): %.2f\\n' % \" + \\\n",
    "            \"(gen, alleleFreq[0][1], subPop[(0,1)]['alleleFreq'][0][1],\" + \\\n",
    "            \"subPop[(0,0)]['alleleFreq'][0][1])\"),\n",
    "    ],\n",
    "    gen = 50\n",
    ")"
   ]
  },
  {
   "cell_type": "code",
   "execution_count": 13,
   "metadata": {},
   "outputs": [
    {
     "name": "stdout",
     "output_type": "stream",
     "text": [
      "Fst=0.000 (re"
     ]
    },
    {
     "name": "stdout",
     "output_type": "stream",
     "text": [
      "p=0 without migration) Fst=0.000 (rep=1 with migration) \nFst=0.00"
     ]
    },
    {
     "name": "stdout",
     "output_type": "stream",
     "text": [
      "4 (rep=0 without migration) Fst=0.002 (rep=1 with migration) \nFst=0.009 (rep=0 without migration) Fst=0.003 (rep=1 with migration) \nFst=0.013 (rep=0 without migration) Fst=0.004 (rep=1 with migration) \nFst=0.014 (rep=0 without migration) Fst=0.004 (rep=1 with migration) \nFst=0.020 (rep=0 without migration) Fst=0.003 (rep=1 with migration) \nFs"
     ]
    },
    {
     "name": "stdout",
     "output_type": "stream",
     "text": [
      "t=0.022 (rep=0 without migration) Fst=0.003 (rep=1 with migration) \nFst=0.024 (rep=0 without migration) Fst=0.005 (rep=1 with migration) \nFst=0.028 (rep=0 without migration) Fst=0.004 (rep=1 with migration) \nFst=0.034 (rep=0 without migration) Fst=0.004 (rep=1 with migration) \nFst=0.040 (rep=0 without migration) Fst=0.005 (rep=1 with migration) \nFst=0.043 (rep=0 without migration) Fst=0.005 (rep=1 with migration) \nFst=0.045 (rep=0 without migration) Fst=0.005 (rep=1 with migration) \nFst=0.053 (rep=0 without migration) Fst=0.004 (rep=1 with migration) \nFst=0.059 (rep=0 without migration) Fst=0.004 (rep=1 with migration) \nFst=0.063 (rep=0 without migration) Fst=0.004 (rep=1 with migration) \nFst=0.074 (rep=0 without migration) Fst=0.005 (rep=1 with migration) \nFst=0.076 (rep=0 without migration) Fst=0.005 (rep=1 with migration) \nFst=0.084 (rep=0 without migration) Fst=0.005 (rep=1 with migration) \nFst=0.086 (rep=0 without migration) Fst=0.004 (rep=1 with migration) \nFst=0.091 (rep=0 without migration) Fst=0.004 (rep=1 with migration) \nFst=0.090 (rep=0 without migration) Fst=0.004 (rep=1 with migration) \nFst=0.091 (rep=0 without migration) Fst=0.003 (rep=1 with migration) \nFst=0.094 (rep=0 without migration) Fst=0.004 (rep=1 with migration) \nFst=0.100 (rep=0 without migration) Fst=0.004 (rep=1 with migration) \n"
     ]
    },
    {
     "data": {
      "text/plain": [
       "(1000, 1000)"
      ]
     },
     "execution_count": 13,
     "metadata": {},
     "output_type": "execute_result"
    }
   ],
   "source": [
    "import simuPOP as sim\n",
    "from simuPOP.utils import migrIslandRates\n",
    "simu = sim.Simulator(sim.Population([5000]*10, loci=10, infoFields='migrate_to'),\n",
    "    rep=2)\n",
    "simu.evolve(\n",
    "    initOps=[\n",
    "        sim.InitSex(),\n",
    "        sim.InitGenotype(freq=[0.5, 0.5])\n",
    "    ],\n",
    "    preOps=sim.Migrator(rate=migrIslandRates(0.01, 10), reps=1),\n",
    "    matingScheme=sim.RandomMating(),\n",
    "    postOps=[\n",
    "        sim.Stat(structure=range(10), step=40),\n",
    "        sim.PyEval(\"'Fst=%.3f (rep=%d without migration) ' % (F_st, rep)\", step=40, reps=0),\n",
    "        sim.PyEval(\"'Fst=%.3f (rep=%d with migration) ' % (F_st, rep)\", step=40, reps=1),\n",
    "        sim.PyOutput('\\n', reps=-1, step=40)\n",
    "    ],\n",
    "    gen = 1000\n",
    ")"
   ]
  },
  {
   "cell_type": "code",
   "execution_count": null,
   "metadata": {},
   "outputs": [],
   "source": []
  }
 ],
 "metadata": {
  "kernelspec": {
   "display_name": "Python 2",
   "language": "python",
   "name": "python2"
  },
  "language_info": {
   "codemirror_mode": {
    "name": "ipython",
    "version": 2
   },
   "file_extension": ".py",
   "mimetype": "text/x-python",
   "name": "python",
   "nbconvert_exporter": "python",
   "pygments_lexer": "ipython2",
   "version": "2.7.6"
  }
 },
 "nbformat": 4,
 "nbformat_minor": 0
}
