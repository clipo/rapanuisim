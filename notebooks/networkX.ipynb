{
 "cells": [
  {
   "cell_type": "code",
   "execution_count": 2,
   "metadata": {},
   "outputs": [
    {
     "name": "stdout",
     "output_type": "stream",
     "text": [
      "g_mat [[ 0.  0.  0.  0.  0.]\n [ 1.  0.  0.  0.  0.]\n [ 1.  1.  0.  0.  0.]\n [ 1.  1.  1.  0.  0.]\n [ 1.  1.  1.  1.  0.]]\n"
     ]
    },
    {
     "name": "stderr",
     "output_type": "stream",
     "text": [
      "/Users/clipo/anaconda3/lib/python3.6/site-packages/ipykernel_launcher.py:12: RuntimeWarning: invalid value encountered in true_divide\n  if sys.path[0] == '':\n"
     ]
    },
    {
     "name": "stdout",
     "output_type": "stream",
     "text": [
      "scaled migration matrix: %s [[0.98, 0.0, 0.0, 0.0, nan], [0.005, 0.98, 0.0, 0.0, nan], [0.005, 0.006666666666666666, 0.98, 0.0, nan], [0.005, 0.006666666666666666, 0.01, 0.98, nan], [0.005, 0.006666666666666666, 0.01, 0.02, nan]]\n"
     ]
    }
   ],
   "source": [
    "\n",
    "import networkx as nx\n",
    "H = nx.read_gml('/Users/clipo/Documents/PycharmProjects/RapaNuiSim/testdata/island_test.gml')\n",
    "nx.info(H)\n",
    "\n",
    "import numpy as np\n",
    "# get the column totals\n",
    "g_mat = nx.to_numpy_matrix(H).astype(np.float)\n",
    "\n",
    "print (\"g_mat\", g_mat)\n",
    "rtot = np.sum(g_mat, axis = 0)\n",
    "scaled = (g_mat / rtot) * 0.02\n",
    "diag = np.eye(np.shape(g_mat)[0]) * (1.0 - 0.02)\n",
    "g_mat_scaled = diag + scaled\n",
    "print(\"scaled migration matrix: %s\", g_mat_scaled.tolist())\n"
   ]
  },
  {
   "cell_type": "code",
   "execution_count": 1,
   "metadata": {},
   "outputs": [],
   "source": []
  },
  {
   "cell_type": "code",
   "execution_count": 8,
   "metadata": {},
   "outputs": [],
   "source": []
  },
  {
   "cell_type": "code",
   "execution_count": null,
   "metadata": {},
   "outputs": [],
   "source": []
  }
 ],
 "metadata": {
  "kernelspec": {
   "display_name": "Python 2",
   "language": "python",
   "name": "python2"
  },
  "language_info": {
   "codemirror_mode": {
    "name": "ipython",
    "version": 2
   },
   "file_extension": ".py",
   "mimetype": "text/x-python",
   "name": "python",
   "nbconvert_exporter": "python",
   "pygments_lexer": "ipython2",
   "version": "2.7.6"
  }
 },
 "nbformat": 4,
 "nbformat_minor": 0
}
