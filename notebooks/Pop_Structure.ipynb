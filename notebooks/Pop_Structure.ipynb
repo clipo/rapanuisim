{
 "cells": [
  {
   "cell_type": "code",
   "execution_count": null,
   "metadata": {
    "collapsed": false
   },
   "outputs": [
    {
     "name": "stdout",
     "output_type": "stream",
     "text": [
      "simuPOP Version 1.1.9 : Copyright (c) 2004-2016 Bo Peng\nRevision 4583 (Oct 10 2018) for Python 3.7.0 (64bit, 0thread)\nRandom Number Generator is set to mt19937 with random seed 0xa1a585abe454c670.\nThis is the standard short allele version with 256 maximum allelic states.\nFor more information, please visit http://simupop.sourceforge.net,\nor email simupop-list@lists.sourceforge.net (subscription required).\n"
     ]
    }
   ],
   "source": [
    "from __future__ import division\n",
    "from collections import defaultdict, OrderedDict\n",
    "from copy import deepcopy\n",
    "#import simuOpt\n",
    "#simuOpt.setOptions(alleleType='long', optimized=True, quiet=False)\n",
    "\n",
    "import seaborn as sns\n",
    "sns.set_style('white')\n",
    "import matplotlib.pyplot as plt\n",
    "\n",
    "import simuPOP as sp\n",
    "from simuPOP import demography\n",
    "%matplotlib inline\n",
    "import networkx as nx\n",
    "import logging as log\n",
    "import numpy as np"
   ]
  },
  {
   "cell_type": "code",
   "execution_count": 2,
   "metadata": {},
   "outputs": [],
   "source": [
    "\n",
    "class NetworkModel(object):\n",
    "    \"\"\"\n",
    "    NetworkModel implements a full \"demographic model\" in simuPOP terms,\n",
    "    that is, it manages the size and existence of subpopulations, and the\n",
    "    migration matrix between them.  The basic data for this model is derived\n",
    "    by importing a NetworkX network in the form of a GML format file.\n",
    "    The network edges represent a set of subpopulations\n",
    "    with unique ID's, and edges between them which are weighted.  The\n",
    "    weights may be determined by any underlying model (e.g., distance,\n",
    "    social interaction hierarchy, etc), but need to be interpreted here\n",
    "    purely as the probability of individuals moving between two subpopulations,\n",
    "    since that is the implementation of interaction.\n",
    "    \"\"\"\n",
    "\n",
    "    def __init__(self,\n",
    "                 networkmodel=None,\n",
    "                 simulation_id=None,\n",
    "                 sim_length=10000,\n",
    "                 burn_in_time=0,\n",
    "                 initial_subpop_size = 0,\n",
    "                 migrationfraction = 0.05):\n",
    "        \"\"\"\n",
    "        :param networkmodel: Name of GML file\n",
    "        :param sim_length: Number of generations to run the simulation\n",
    "        :return:\n",
    "        \"\"\"\n",
    "        #BaseMetapopulationModel.__init__(self, numGens = sim_length, initSize = initial_size, infoFields = info_fields, ops = ops)\n",
    "        self.networkmodel = networkmodel\n",
    "        self.sim_length = sim_length\n",
    "        self.info_fields = 'migrate_to'\n",
    "        self.sim_id = simulation_id\n",
    "        self.burn_in_time = burn_in_time\n",
    "        self.init_subpop_size = initial_subpop_size\n",
    "        self.migration_fraction = migrationfraction\n",
    "\n",
    "        self._cached_migration_matrix = None\n",
    "\n",
    "        # This will be set when we examine the network model\n",
    "        self.sub_pops = 0\n",
    "\n",
    "        self.subpopulation_names = []\n",
    "\n",
    "        # Parse the GML files and create a list of NetworkX objects\n",
    "        self._parse_network_model()\n",
    "\n",
    "\n",
    "        # Determine the initial population configuration\n",
    "        self._calculate_initial_population_configuration()\n",
    "\n",
    "        # prime the migration matrix\n",
    "        self._cached_migration_matrix = self._calculate_migration_matrix()\n",
    "\n",
    "    ############### Private Initialization Methods ###############\n",
    "\n",
    "    def _parse_network_model(self):\n",
    "        \"\"\"\n",
    "        Given a file,  read the GML files (format: <name>.gml)\n",
    "        and construct aNetworkX networkmodel from the GML file\n",
    "        \"\"\"\n",
    "\n",
    "        log.debug(\"Opening  GML file %s:\",  self.networkmodel)\n",
    "        network = nx.read_gml(self.networkmodel)\n",
    "        log.debug(\"network nodes: %s\", '|'.join(sorted(network.nodes())))\n",
    "        self.network = network\n",
    "\n",
    "    def _calculate_initial_population_configuration(self):\n",
    "        # num subpops is just the number of vertices in the first graph slice.\n",
    "        #first_time = min(self.times)\n",
    "        network = self.network\n",
    "        self.sub_pops = network.number_of_nodes()\n",
    "        log.debug(\"Number of initial subpopulations: %s\", self.sub_pops)\n",
    "        log.debug(\"list of nodes: %s\", list(network.nodes(data=True)))\n",
    "        # subpoplation names - have to switch them to plain strings from unicode or simuPOP won't use them as subpop names\n",
    "        self.subpopulation_names =  list(network.nodes)\n",
    "\n",
    "        log.debug(\"calc_init_config:  subpopulation names: %s\", self.subpopulation_names)\n",
    "\n",
    "\n",
    "    ############### Private Methods for Call() Interface ###############\n",
    "\n",
    "\n",
    "    def _get_node_label(self,g, id):\n",
    "        return g.node[id][\"label\"].encode('utf-8', 'ignore')\n",
    "\n",
    "\n",
    "    def _get_id_for_subpop_name(self,pop,name):\n",
    "        return pop.subPopByName(name)\n",
    "\n",
    "    def _get_node_parent(self,g, id):\n",
    "        return g.node[id][\"parent_node\"].encode('utf-8', 'ignore')\n",
    "\n",
    "\n",
    "    def _get_subpop_idname_map(self, pop):\n",
    "        names = pop.subPopNames()\n",
    "        name_id_map = dict()\n",
    "        for name in names:\n",
    "            id = pop.subPopByName(name)\n",
    "            name_id_map[id] = name\n",
    "        return name_id_map\n",
    "\n",
    "\n",
    "    def _calculate_migration_matrix(self):\n",
    "\n",
    "        g_mat = nx.to_numpy_matrix(self.network).astype(np.float)\n",
    "        print(\"g_mat: \", g_mat)\n",
    "        # get the column totals\n",
    "        rtot = np.sum(g_mat, axis = 1)\n",
    "        scaled = (g_mat / rtot) * self.migration_fraction\n",
    "        diag = np.eye(np.shape(g_mat)[0]) * (1.0 - self.migration_fraction)\n",
    "        g_mat_scaled = diag + scaled\n",
    "        log.debug(\"scaled migration matrix: %s\", g_mat_scaled.tolist())\n",
    "        return g_mat_scaled.tolist()\n",
    "\n",
    "\n",
    "    ###################### Public API #####################\n",
    "\n",
    "    def get_info_fields(self):\n",
    "        return self.info_fields\n",
    "\n",
    "    def get_initial_size(self):\n",
    "        return [self.init_subpop_size] * self.sub_pops\n",
    "\n",
    "    def get_subpopulation_names(self):\n",
    "        return self.subpopulation_names\n",
    "\n",
    "    def get_subpopulation_sizes(self):\n",
    "        return self.subpop_sizes\n",
    "\n",
    "\n",
    "    def __call__(self, pop):\n",
    "        \"\"\"\n",
    "        Main public interface to this demography model.  When the model object is called in every time step,\n",
    "        this method creates a new migration matrix.\n",
    "\n",
    "        After migration, the stat function is called to inventory the subpopulation sizes, which are then\n",
    "        returned since they're handed to the RandomSelection mating operator.\n",
    "\n",
    "        If a new network slice is not active, the migration matrix from the previous step is applied again,\n",
    "        and the new subpopulation sizes are returns to the RandomSelection mating operator as before.\n",
    "\n",
    "        :return: A list of the subpopulation sizes for each subpopulation\n",
    "        \"\"\"\n",
    "        if 'gen' not in pop.vars():\n",
    "            gen = 0\n",
    "        else:\n",
    "            gen = pop.dvars().gen\n",
    "\n",
    "        ######### Do the per tick processing ##########\n",
    "\n",
    "        log.debug(\"========= Processing network  =============\")\n",
    "        #self._dbg_slice_pop_start(pop,gen)\n",
    "\n",
    "        # update the migration matrix\n",
    "        self._cached_migration_matrix = self._calculate_migration_matrix(gen)\n",
    "\n",
    "        sp.migrate(pop, self._cached_migration_matrix)\n",
    "        sp.stat(pop, popSize=True)\n",
    "        # cache the new subpopulation names and sizes for debug and logging purposes\n",
    "        # before returning them to the calling function\n",
    "        self.subpopulation_names = sorted(pop.subPopNames())\n",
    "        self.subpop_sizes = pop.subPopSizes()\n",
    "        return pop.subPopSizes()\n"
   ]
  },
  {
   "cell_type": "code",
   "execution_count": 18,
   "metadata": {
    "collapsed": false
   },
   "outputs": [
    {
     "name": "stdout",
     "output_type": "stream",
     "text": [
      "[1000, 1000, 1000, 1000, 1000]\n"
     ]
    }
   ],
   "source": [
    "num_loci = 10\n",
    "pop_size = 5000\n",
    "num_gens = 1000\n",
    "num_pops = 5\n",
    "sub_pop_size= [1000,1000,1000,1000,1000] #int(pop_size/num_pops)\n",
    "print(sub_pop_size)\n",
    "migs = [0.001, 0.01, 0.1]\n",
    "innovation_rate = 0.01\n",
    "MAXALLELES = 256"
   ]
  },
  {
   "cell_type": "code",
   "execution_count": 19,
   "metadata": {
    "collapsed": false
   },
   "outputs": [],
   "source": [
    "init_ops = OrderedDict()\n",
    "pre_ops = OrderedDict()\n",
    "post_ops = OrderedDict()"
   ]
  },
  {
   "cell_type": "code",
   "execution_count": 20,
   "metadata": {
    "collapsed": false
   },
   "outputs": [],
   "source": [
    "def init_acumulators(pop, param):\n",
    "    acumulators = param\n",
    "    for acumulator in acumulators:\n",
    "        if acumulator.endswith('_sp'):\n",
    "            pop.vars()[acumulator] = defaultdict(list)\n",
    "        else:\n",
    "            pop.vars()[acumulator] = []\n",
    "    return True\n",
    "\n",
    "def update_acumulator(pop, param):\n",
    "    acumulator, var = param\n",
    "    if  var.endswith('_sp'):\n",
    "        for sp in range(pop.numSubPop()):\n",
    "            pop.vars()[acumulator][sp].append(deepcopy(pop.vars(sp)[var[:-3]]))\n",
    "    else:\n",
    "        pop.vars()[acumulator].append(deepcopy(pop.vars()[var]))\n",
    "    return True\n"
   ]
  },
  {
   "cell_type": "code",
   "execution_count": 21,
   "metadata": {
    "collapsed": false
   },
   "outputs": [
    {
     "name": "stdout",
     "output_type": "stream",
     "text": [
      "g_mat:  [[0. 1. 0. 0. 1.]\n [1. 0. 1. 1. 1.]\n [0. 1. 0. 1. 1.]\n [0. 1. 1. 0. 1.]\n [1. 1. 1. 1. 0.]]\n"
     ]
    }
   ],
   "source": [
    "#pops = sp.Population([pop_size] * num_pops, loci=[1] * num_loci, infoFields=['migrate_to'])\n",
    "\n",
    "\n",
    "# Construct a demographic model from a collection of network slices which represent a temporal network\n",
    "# of changing subpopulations and interaction strengths.  This object is Callable, and simply is handed\n",
    "# to the mating function which applies it during the copying process\n",
    "networkmodel = NetworkModel( networkmodel=\"/Users/clipo/Documents/PycharmProjects/RapaNuiSim/notebooks/test_graph.gml\",\n",
    "                                     simulation_id=\"1\",\n",
    "                                     sim_length=3000,\n",
    "                                     burn_in_time=500,\n",
    "                                     initial_subpop_size=1000,\n",
    "                                     migrationfraction=0.01)\n",
    "\n",
    "# The regional network model defines both of these, in order to configure an initial population for evolution\n",
    "# Construct the initial population\n",
    "\n",
    "pops = sp.Population(size = networkmodel.get_initial_size(),\n",
    "                     subPopNames = list(networkmodel.get_subpopulation_names()),\n",
    "                     infoFields = 'migrate_to',\n",
    "                     ploidy=1,\n",
    "                     loci=100 )\n"
   ]
  },
  {
   "cell_type": "code",
   "execution_count": 22,
   "metadata": {
    "collapsed": false
   },
   "outputs": [],
   "source": [
    "divisor = 100.0 / num_loci\n",
    "frac = divisor / 100.0\n",
    "distribution = [frac] * num_loci\n",
    "\n",
    "init_ops['acumulators'] = sp.PyOperator(init_acumulators, param=['fst'])\n",
    "init_ops['Sex'] = sp.InitSex()\n",
    "init_ops['Freq'] = sp.InitGenotype(freq=distribution)\n",
    "post_ops['Innovate']=sp.KAlleleMutator(k=MAXALLELES, rates=innovation_rate, loci=sp.ALL_AVAIL)\n",
    "for i, mig in enumerate(migs):\n",
    "    post_ops['mig-%d' % i] = sp.Migrator(demography.migrIslandRates(mig, num_pops), reps=[i])\n",
    "post_ops['Stat-fst'] = sp.Stat(structure=sp.ALL_AVAIL)\n",
    "post_ops['fst_acumulation'] = sp.PyOperator(update_acumulator, param=('fst', 'F_st'))\n"
   ]
  },
  {
   "cell_type": "code",
   "execution_count": 23,
   "metadata": {
    "collapsed": false
   },
   "outputs": [],
   "source": [
    "#mating_scheme = sp.RandomSelection()\n",
    "mating_scheme=sp.RandomSelection(subPopSize=sub_pop_size)"
   ]
  },
  {
   "cell_type": "code",
   "execution_count": 9,
   "metadata": {
    "collapsed": false
   },
   "outputs": [
    {
     "ename": "ValueError",
     "evalue": "mating.cpp: 1298 number of subPopulaitons must agree.\n Pre: 5 now: 1",
     "traceback": [
      "\u001b[0;31m---------------------------------------------------------------------------\u001b[0m",
      "\u001b[0;31mValueError\u001b[0m                                Traceback (most recent call last)",
      "\u001b[0;32m<ipython-input-9-9c059d42c915>\u001b[0m in \u001b[0;36m<module>\u001b[0;34m()\u001b[0m\n\u001b[1;32m      1\u001b[0m \u001b[0msim\u001b[0m \u001b[0;34m=\u001b[0m \u001b[0msp\u001b[0m\u001b[0;34m.\u001b[0m\u001b[0mSimulator\u001b[0m\u001b[0;34m(\u001b[0m\u001b[0mpops\u001b[0m\u001b[0;34m,\u001b[0m \u001b[0mrep\u001b[0m\u001b[0;34m=\u001b[0m\u001b[0mlen\u001b[0m\u001b[0;34m(\u001b[0m\u001b[0mmigs\u001b[0m\u001b[0;34m)\u001b[0m\u001b[0;34m)\u001b[0m\u001b[0;34m\u001b[0m\u001b[0m\n\u001b[1;32m      2\u001b[0m sim.evolve(initOps=list(init_ops.values()), preOps=list(pre_ops.values()), postOps=list(post_ops.values()),\n\u001b[0;32m----> 3\u001b[0;31m            matingScheme=mating_scheme, gen=num_gens)    \n\u001b[0m",
      "\u001b[0;31mValueError\u001b[0m: mating.cpp: 1298 number of subPopulaitons must agree.\n Pre: 5 now: 1"
     ],
     "output_type": "error"
    }
   ],
   "source": [
    "sim = sp.Simulator(pops, rep=len(migs))\n",
    "sim.evolve(initOps=list(init_ops.values()), preOps=list(pre_ops.values()), postOps=list(post_ops.values()),\n",
    "           matingScheme=mating_scheme, gen=num_gens)    "
   ]
  },
  {
   "cell_type": "code",
   "execution_count": 1,
   "metadata": {
    "collapsed": false
   },
   "outputs": [
    {
     "ename": "NameError",
     "evalue": "name 'plt' is not defined",
     "traceback": [
      "\u001b[0;31m---------------------------------------------------------------------------\u001b[0m",
      "\u001b[0;31mNameError\u001b[0m                                 Traceback (most recent call last)",
      "\u001b[0;32m<ipython-input-1-cccdc93ed40f>\u001b[0m in \u001b[0;36m<module>\u001b[0;34m()\u001b[0m\n\u001b[0;32m----> 1\u001b[0;31m \u001b[0mfig\u001b[0m \u001b[0;34m=\u001b[0m \u001b[0mplt\u001b[0m\u001b[0;34m.\u001b[0m\u001b[0mfigure\u001b[0m\u001b[0;34m(\u001b[0m\u001b[0mfigsize\u001b[0m\u001b[0;34m=\u001b[0m\u001b[0;34m(\u001b[0m\u001b[0;36m16\u001b[0m\u001b[0;34m,\u001b[0m \u001b[0;36m9\u001b[0m\u001b[0;34m)\u001b[0m\u001b[0;34m)\u001b[0m\u001b[0;34m\u001b[0m\u001b[0m\n\u001b[0m\u001b[1;32m      2\u001b[0m \u001b[0max\u001b[0m \u001b[0;34m=\u001b[0m \u001b[0mfig\u001b[0m\u001b[0;34m.\u001b[0m\u001b[0madd_subplot\u001b[0m\u001b[0;34m(\u001b[0m\u001b[0;36m111\u001b[0m\u001b[0;34m)\u001b[0m\u001b[0;34m\u001b[0m\u001b[0m\n\u001b[1;32m      3\u001b[0m \u001b[0;32mfor\u001b[0m \u001b[0mpop\u001b[0m\u001b[0;34m,\u001b[0m \u001b[0mmig\u001b[0m \u001b[0;32min\u001b[0m \u001b[0mzip\u001b[0m\u001b[0;34m(\u001b[0m\u001b[0msim\u001b[0m\u001b[0;34m.\u001b[0m\u001b[0mpopulations\u001b[0m\u001b[0;34m(\u001b[0m\u001b[0;34m)\u001b[0m\u001b[0;34m,\u001b[0m \u001b[0mmigs\u001b[0m\u001b[0;34m)\u001b[0m\u001b[0;34m:\u001b[0m\u001b[0;34m\u001b[0m\u001b[0m\n\u001b[1;32m      4\u001b[0m     \u001b[0max\u001b[0m\u001b[0;34m.\u001b[0m\u001b[0mplot\u001b[0m\u001b[0;34m(\u001b[0m\u001b[0mpop\u001b[0m\u001b[0;34m.\u001b[0m\u001b[0mdvars\u001b[0m\u001b[0;34m(\u001b[0m\u001b[0;34m)\u001b[0m\u001b[0;34m.\u001b[0m\u001b[0mfst\u001b[0m\u001b[0;34m,\u001b[0m \u001b[0mlabel\u001b[0m\u001b[0;34m=\u001b[0m\u001b[0;34m'mig rate %.4f'\u001b[0m \u001b[0;34m%\u001b[0m \u001b[0mmig\u001b[0m\u001b[0;34m)\u001b[0m\u001b[0;34m\u001b[0m\u001b[0m\n\u001b[1;32m      5\u001b[0m \u001b[0max\u001b[0m\u001b[0;34m.\u001b[0m\u001b[0mlegend\u001b[0m\u001b[0;34m(\u001b[0m\u001b[0mloc\u001b[0m\u001b[0;34m=\u001b[0m\u001b[0;36m2\u001b[0m\u001b[0;34m)\u001b[0m\u001b[0;34m\u001b[0m\u001b[0m\n",
      "\u001b[0;31mNameError\u001b[0m: name 'plt' is not defined"
     ],
     "output_type": "error"
    }
   ],
   "source": [
    "fig = plt.figure(figsize=(16, 9))\n",
    "ax = fig.add_subplot(111)\n",
    "for pop, mig in zip(sim.populations(), migs):\n",
    "    ax.plot(pop.dvars().fst, label='mig rate %.4f' % mig)\n",
    "ax.legend(loc=2)\n",
    "ax.set_ylabel('FST')\n",
    "ax.set_xlabel('Generation')\n",
    "\n"
   ]
  },
  {
   "cell_type": "code",
   "execution_count": 22,
   "metadata": {},
   "outputs": [
    {
     "ename": "AttributeError",
     "evalue": "'_dw' object has no attribute 'gst'",
     "traceback": [
      "\u001b[0;31m---------------------------------------------------------------------------\u001b[0m",
      "\u001b[0;31mAttributeError\u001b[0m                            Traceback (most recent call last)",
      "\u001b[0;32m<ipython-input-22-a0afa35342ee>\u001b[0m in \u001b[0;36m<module>\u001b[0;34m()\u001b[0m\n\u001b[1;32m      2\u001b[0m \u001b[0max2\u001b[0m \u001b[0;34m=\u001b[0m \u001b[0mfig2\u001b[0m\u001b[0;34m.\u001b[0m\u001b[0madd_subplot\u001b[0m\u001b[0;34m(\u001b[0m\u001b[0;36m111\u001b[0m\u001b[0;34m)\u001b[0m\u001b[0;34m\u001b[0m\u001b[0m\n\u001b[1;32m      3\u001b[0m \u001b[0;32mfor\u001b[0m \u001b[0mpop\u001b[0m\u001b[0;34m,\u001b[0m \u001b[0mmig\u001b[0m \u001b[0;32min\u001b[0m \u001b[0mzip\u001b[0m\u001b[0;34m(\u001b[0m\u001b[0msim\u001b[0m\u001b[0;34m.\u001b[0m\u001b[0mpopulations\u001b[0m\u001b[0;34m(\u001b[0m\u001b[0;34m)\u001b[0m\u001b[0;34m,\u001b[0m \u001b[0mmigs\u001b[0m\u001b[0;34m)\u001b[0m\u001b[0;34m:\u001b[0m\u001b[0;34m\u001b[0m\u001b[0m\n\u001b[0;32m----> 4\u001b[0;31m     \u001b[0max\u001b[0m\u001b[0;34m.\u001b[0m\u001b[0mplot\u001b[0m\u001b[0;34m(\u001b[0m\u001b[0mpop\u001b[0m\u001b[0;34m.\u001b[0m\u001b[0mdvars\u001b[0m\u001b[0;34m(\u001b[0m\u001b[0;34m)\u001b[0m\u001b[0;34m.\u001b[0m\u001b[0mgst\u001b[0m\u001b[0;34m,\u001b[0m \u001b[0mlabel\u001b[0m\u001b[0;34m=\u001b[0m\u001b[0;34m'mig rate %.4f'\u001b[0m \u001b[0;34m%\u001b[0m \u001b[0mmig\u001b[0m\u001b[0;34m)\u001b[0m\u001b[0;34m\u001b[0m\u001b[0m\n\u001b[0m\u001b[1;32m      5\u001b[0m \u001b[0max\u001b[0m\u001b[0;34m.\u001b[0m\u001b[0mlegend\u001b[0m\u001b[0;34m(\u001b[0m\u001b[0mloc\u001b[0m\u001b[0;34m=\u001b[0m\u001b[0;36m2\u001b[0m\u001b[0;34m)\u001b[0m\u001b[0;34m\u001b[0m\u001b[0m\n\u001b[1;32m      6\u001b[0m \u001b[0max\u001b[0m\u001b[0;34m.\u001b[0m\u001b[0mset_ylabel\u001b[0m\u001b[0;34m(\u001b[0m\u001b[0;34m'GST'\u001b[0m\u001b[0;34m)\u001b[0m\u001b[0;34m\u001b[0m\u001b[0m\n",
      "\u001b[0;31mAttributeError\u001b[0m: '_dw' object has no attribute 'gst'"
     ],
     "output_type": "error"
    },
    {
     "data": {
      "image/png": "[encoded data removed]",
      "text/plain": [
       "<Figure size 1152x648 with 1 Axes>"
      ]
     },
     "metadata": {},
     "output_type": "display_data"
    }
   ],
   "source": [
    "fig2 = plt.figure(figsize=(16, 9))\n",
    "ax2 = fig2.add_subplot(111)\n",
    "for pop, mig in zip(sim.populations(), migs):\n",
    "    ax.plot(pop.dvars().gst, label='mig rate %.4f' % mig)\n",
    "ax.legend(loc=2)\n",
    "ax.set_ylabel('GST')\n",
    "ax.set_xlabel('Generation')"
   ]
  },
  {
   "cell_type": "code",
   "execution_count": 26,
   "metadata": {
    "collapsed": false
   },
   "outputs": [],
   "source": [
    "num_gens = 400\n",
    "num_loci = 5\n",
    "init_ops = OrderedDict()\n",
    "pre_ops = OrderedDict()\n",
    "post_ops = OrderedDict()\n",
    "\n",
    "init_ops['Sex'] = sp.InitSex()\n",
    "init_ops['Freq'] = sp.InitGenotype(freq=[0.5, 0.5])\n",
    "post_ops['Stat-freq'] = sp.Stat(alleleFreq=sp.ALL_AVAIL, vars=['alleleFreq', 'alleleFreq_sp'])\n",
    "init_ops['acumulators'] = sp.PyOperator(init_acumulators, param=['allele_freq', 'allele_freq_sp'])\n",
    "post_ops['freq_acumulation'] = sp.PyOperator(update_acumulator, param=('allele_freq', 'alleleFreq'))\n",
    "post_ops['freq_sp_acumulation'] = sp.PyOperator(update_acumulator,\n",
    "                                                param=('allele_freq_sp', 'alleleFreq_sp'))"
   ]
  },
  {
   "cell_type": "code",
   "execution_count": 27,
   "metadata": {
    "collapsed": false
   },
   "outputs": [],
   "source": [
    "for i, mig in enumerate(migs):\n",
    "    post_ops['mig-%d' % i] = \\\n",
    "        sp.Migrator(demography.migrSteppingStoneRates(mig, num_pops), reps=[i])\n",
    "#two 2 - talk\n",
    "pops = sp.Population([pop_size] * num_pops, \n",
    "                     loci=[1] * num_loci, infoFields=['migrate_to'])"
   ]
  },
  {
   "cell_type": "code",
   "execution_count": 28,
   "metadata": {
    "collapsed": false
   },
   "outputs": [
    {
     "ename": "RuntimeError",
     "evalue": "RandomParentsChooser fails because there is no female individual in a subpopulation ",
     "traceback": [
      "\u001b[0;31m---------------------------------------------------------------------------\u001b[0m",
      "\u001b[0;31mRuntimeError\u001b[0m                              Traceback (most recent call last)",
      "\u001b[0;32m<ipython-input-28-9711d61ff6b0>\u001b[0m in \u001b[0;36m<module>\u001b[0;34m()\u001b[0m\n\u001b[1;32m      3\u001b[0m            \u001b[0mpreOps\u001b[0m\u001b[0;34m=\u001b[0m\u001b[0mlist\u001b[0m\u001b[0;34m(\u001b[0m\u001b[0mpre_ops\u001b[0m\u001b[0;34m.\u001b[0m\u001b[0mvalues\u001b[0m\u001b[0;34m(\u001b[0m\u001b[0;34m)\u001b[0m\u001b[0;34m)\u001b[0m\u001b[0;34m,\u001b[0m\u001b[0;34m\u001b[0m\u001b[0m\n\u001b[1;32m      4\u001b[0m            \u001b[0mpostOps\u001b[0m\u001b[0;34m=\u001b[0m\u001b[0mlist\u001b[0m\u001b[0;34m(\u001b[0m\u001b[0mpost_ops\u001b[0m\u001b[0;34m.\u001b[0m\u001b[0mvalues\u001b[0m\u001b[0;34m(\u001b[0m\u001b[0;34m)\u001b[0m\u001b[0;34m)\u001b[0m\u001b[0;34m,\u001b[0m\u001b[0;34m\u001b[0m\u001b[0m\n\u001b[0;32m----> 5\u001b[0;31m            matingScheme=mating_scheme, gen=num_gens)\n\u001b[0m",
      "\u001b[0;31mRuntimeError\u001b[0m: RandomParentsChooser fails because there is no female individual in a subpopulation "
     ],
     "output_type": "error"
    }
   ],
   "source": [
    "sim = sp.Simulator(pops, rep=len(migs))\n",
    "sim.evolve(initOps=list(init_ops.values()), \n",
    "           preOps=list(pre_ops.values()),\n",
    "           postOps=list(post_ops.values()),\n",
    "           matingScheme=mating_scheme, gen=num_gens)"
   ]
  },
  {
   "cell_type": "code",
   "execution_count": 20,
   "metadata": {
    "collapsed": false
   },
   "outputs": [
    {
     "ename": "AttributeError",
     "evalue": "'_dw' object has no attribute 'allele_freq'",
     "traceback": [
      "\u001b[0;31m---------------------------------------------------------------------------\u001b[0m",
      "\u001b[0;31mAttributeError\u001b[0m                            Traceback (most recent call last)",
      "\u001b[0;32m<ipython-input-20-c191b34d58e3>\u001b[0m in \u001b[0;36m<module>\u001b[0;34m()\u001b[0m\n\u001b[1;32m      9\u001b[0m \u001b[0;32mfor\u001b[0m \u001b[0mline\u001b[0m\u001b[0;34m,\u001b[0m \u001b[0mpop\u001b[0m \u001b[0;32min\u001b[0m \u001b[0menumerate\u001b[0m\u001b[0;34m(\u001b[0m\u001b[0;34m[\u001b[0m\u001b[0msim\u001b[0m\u001b[0;34m.\u001b[0m\u001b[0mpopulation\u001b[0m\u001b[0;34m(\u001b[0m\u001b[0;36m0\u001b[0m\u001b[0;34m)\u001b[0m\u001b[0;34m,\u001b[0m \u001b[0msim\u001b[0m\u001b[0;34m.\u001b[0m\u001b[0mpopulation\u001b[0m\u001b[0;34m(\u001b[0m\u001b[0;36m1\u001b[0m\u001b[0;34m)\u001b[0m\u001b[0;34m,\u001b[0m \u001b[0msim\u001b[0m\u001b[0;34m.\u001b[0m\u001b[0mpopulation\u001b[0m\u001b[0;34m(\u001b[0m\u001b[0mlen\u001b[0m\u001b[0;34m(\u001b[0m\u001b[0mmigs\u001b[0m\u001b[0;34m)\u001b[0m \u001b[0;34m-\u001b[0m \u001b[0;36m1\u001b[0m\u001b[0;34m)\u001b[0m\u001b[0;34m]\u001b[0m\u001b[0;34m)\u001b[0m\u001b[0;34m:\u001b[0m\u001b[0;34m\u001b[0m\u001b[0m\n\u001b[1;32m     10\u001b[0m     \u001b[0;32mfor\u001b[0m \u001b[0mlocus\u001b[0m \u001b[0;32min\u001b[0m \u001b[0mrange\u001b[0m\u001b[0;34m(\u001b[0m\u001b[0mnum_loci\u001b[0m\u001b[0;34m)\u001b[0m\u001b[0;34m:\u001b[0m\u001b[0;34m\u001b[0m\u001b[0m\n\u001b[0;32m---> 11\u001b[0;31m         \u001b[0mmaf\u001b[0m \u001b[0;34m=\u001b[0m \u001b[0mget_maf\u001b[0m\u001b[0;34m(\u001b[0m\u001b[0mpop\u001b[0m\u001b[0;34m.\u001b[0m\u001b[0mdvars\u001b[0m\u001b[0;34m(\u001b[0m\u001b[0;34m)\u001b[0m\u001b[0;34m.\u001b[0m\u001b[0mallele_freq\u001b[0m\u001b[0;34m)\u001b[0m\u001b[0;34m\u001b[0m\u001b[0m\n\u001b[0m\u001b[1;32m     12\u001b[0m         \u001b[0maxs\u001b[0m\u001b[0;34m[\u001b[0m\u001b[0mline\u001b[0m\u001b[0;34m,\u001b[0m \u001b[0;36m0\u001b[0m\u001b[0;34m]\u001b[0m\u001b[0;34m.\u001b[0m\u001b[0mplot\u001b[0m\u001b[0;34m(\u001b[0m\u001b[0mmaf\u001b[0m\u001b[0;34m)\u001b[0m\u001b[0;34m\u001b[0m\u001b[0m\n\u001b[1;32m     13\u001b[0m         \u001b[0maxs\u001b[0m\u001b[0;34m[\u001b[0m\u001b[0mline\u001b[0m\u001b[0;34m,\u001b[0m \u001b[0;36m0\u001b[0m\u001b[0;34m]\u001b[0m\u001b[0;34m.\u001b[0m\u001b[0mset_axis_bgcolor\u001b[0m\u001b[0;34m(\u001b[0m\u001b[0;34m'black'\u001b[0m\u001b[0;34m)\u001b[0m\u001b[0;34m\u001b[0m\u001b[0m\n",
      "\u001b[0;31mAttributeError\u001b[0m: '_dw' object has no attribute 'allele_freq'"
     ],
     "output_type": "error"
    },
    {
     "data": {
      "image/png": "[encoded data removed]",
      "text/plain": [
       "<Figure size 1152x648 with 18 Axes>"
      ]
     },
     "metadata": {},
     "output_type": "display_data"
    }
   ],
   "source": [
    "def get_maf(var):\n",
    "    locus_data = [gen[locus] for gen in var]\n",
    "    maf = [min(freq.values()) for freq in locus_data]\n",
    "    maf = [v if v != 1 else 0 for v in maf]\n",
    "    return maf\n",
    "    \n",
    "fig, axs = plt.subplots(3, num_pops // 2 + 1, figsize=(16, 9), sharex=True, sharey=True, squeeze=False)\n",
    "fig.suptitle('Minimum allele frequency at the meta-population and 5 demes', fontsize='xx-large')\n",
    "for line, pop in enumerate([sim.population(0), sim.population(1), sim.population(len(migs) - 1)]):\n",
    "    for locus in range(num_loci):\n",
    "        maf = get_maf(pop.dvars().allele_freq)\n",
    "        axs[line, 0].plot(maf)\n",
    "        axs[line, 0].set_axis_bgcolor('black')\n",
    "    for nsp in range(num_pops // 2):\n",
    "        for locus in range(num_loci):\n",
    "            maf = get_maf(pop.dvars().allele_freq_sp[nsp * 2])\n",
    "            axs[line, nsp + 1].plot(maf)\n",
    "fig.subplots_adjust(hspace=0, wspace=0)"
   ]
  },
  {
   "cell_type": "code",
   "execution_count": null,
   "metadata": {
    "collapsed": false
   },
   "outputs": [],
   "source": []
  },
  {
   "cell_type": "code",
   "execution_count": 8,
   "metadata": {
    "collapsed": false
   },
   "outputs": [],
   "source": [
    "import networkx as nx\n",
    "import matplotlib.pyplot as plt\n",
    "#G = nx.watts_strogatz_graph(10,1,.01)\n",
    "G = nx.petersen_graph()\n",
    "plt.subplot(111)\n",
    "nx.draw(G, with_labels=True, font_weight='bold')\n",
    "%matplotlib inline"
   ]
  },
  {
   "cell_type": "code",
   "execution_count": null,
   "metadata": {},
   "outputs": [],
   "source": []
  }
 ],
 "metadata": {
  "kernelspec": {
   "display_name": "Python 2",
   "language": "python",
   "name": "python2"
  },
  "language_info": {
   "codemirror_mode": {
    "name": "ipython",
    "version": 2
   },
   "file_extension": ".py",
   "mimetype": "text/x-python",
   "name": "python",
   "nbconvert_exporter": "python",
   "pygments_lexer": "ipython2",
   "version": "2.7.9"
  }
 },
 "nbformat": 4,
 "nbformat_minor": 0
}
